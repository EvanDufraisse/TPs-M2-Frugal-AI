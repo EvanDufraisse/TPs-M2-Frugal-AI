{
 "cells": [
  {
   "cell_type": "markdown",
   "metadata": {
    "id": "EBiKqbFKoKde"
   },
   "source": [
    "# Practical Session 1 - Data Frugality and Imbalanced Data\n",
    "\n",
    "Welcome to this first practical session of this Frugal AI course. In these practical sessions, we will explore how to build efficient and frugal AI models.\n",
    "\n",
    "In this first session, we will focus on the data frugality and imbalanced dataset. Hopefully you have access to the Internet and a Jupyter notebook environment to follow along. Whenever you see a `TODO` in the code, it means that you have to complete the code snippet. You can use every resource available online to help you complete the tasks.\n",
    "\n",
    "We will ask you to return your notebook with the results of the tasks under a pdf format. You can use the `File -> Print Preview` option in Jupyter to generate a pdf file. We will ask you to submit the pdf file to a link I will provide you.\n",
    "\n",
    "Notebooks are to be submitted by the 15th of October 2024. If you have any questions, feel free to ask me.\n",
    "\n",
    "\n"
   ]
  },
  {
   "cell_type": "markdown",
   "metadata": {
    "id": "9JvgXcL5qe01"
   },
   "source": [
    "# Packages required\n",
    "\n",
    "The list of packages to install must have been sent beforehand by my colleague:\n",
    "### Mandatory\n",
    "- torch-cpu\n",
    "- transformers\n",
    "- matplotlib\n",
    "- numpy\n",
    "- scikit-learn\n",
    "- umap-learn\n",
    "\n",
    "### Optional\n",
    "- pandas\n",
    "- tqdm"
   ]
  },
  {
   "cell_type": "markdown",
   "metadata": {
    "id": "-6RIa7q_qad3"
   },
   "source": [
    "## The Dataset: Amazon Reviews of Movies and TV Shows\n",
    "\n",
    "As part of this session, we will use a subset of the Amazon reviews of movies and TV shows dataset. The dataset is available on this [repo] (https://nijianmo.github.io/amazon/index.html). Originally, reviews are scored as integers between 1 and 5. For this session I subsampled and simplified the dataset by only keeping reviews that are correctly formatted, of acceptable size, and I reduced the number of classes to 2 (positive and negative reviews) by mapping negative scores [1.0, 2.0] to negative and positive scores [4.0, 5.0] to positive.\n",
    "\n",
    "It is stored as a `jsonl.gz` with the following structure (one json per line):\n",
    "\n",
    "```\n",
    "{\"rating\": 1, \"review\": \"I love this movie\"},\n",
    "{\"rating\": 0, \"review\": \"I hate this movie\"},\n",
    "...\n",
    "{\"rating\": 1, \"review\": \"I like this movie\"}\n",
    "```"
   ]
  },
  {
   "cell_type": "markdown",
   "metadata": {
    "id": "7qUuqoQdoSxV"
   },
   "source": [
    "## Part 1: Dataset Preparation\n",
    "\n",
    "This part makes sure you're able to load the dataset, and enforce a way to load it. It also makes you subsample the dataset to make it imbalanced.\n",
    "\n",
    "Tasks:\n",
    "- 1.1 Load the dataset and display the first 5 rows.  \n",
    "- 1.2 Display the distribution of the target variable.  \n",
    "- 1.3 Make the dataset imbalanced by keeping only 5% of the negative reviews.\n",
    "- 1.4 Display the distribution of labels using a bar chart after making the dataset imbalanced\n",
    "- 1.5 Save the training set to a new file."
   ]
  },
  {
   "cell_type": "code",
   "execution_count": null,
   "metadata": {
    "id": "AsSC3yJsAVtU"
   },
   "outputs": [],
   "source": [
    "# 1.1 Load the training dataset and display the first 5 rows\n",
    "import os\n",
    "import gzip\n",
    "import json\n",
    "import pandas as pd # You can use pandas if you want\n",
    "\n",
    "path_data = \"/home/ed/Dev/CODE_PERSO/TPs-M2-Frugal-AI/data/amazon_movie_reviews/binary\"\n",
    "file = \"amazon_movies_subset_train_binary.jsonl.gz\"\n",
    "abs_path_file = os.path.join(path_data, file)\n",
    "\n",
    "# If using Google Colab\n",
    "# from google.colab import drive\n",
    "# drive.mount(path_data)\n",
    "\n",
    "# TODO: your code here\n",
    "\n"
   ]
  },
  {
   "cell_type": "code",
   "execution_count": null,
   "metadata": {
    "id": "HpUdRZeGpvfv"
   },
   "outputs": [],
   "source": [
    "! pip install torch torchvision torchaudio --index-url https://download.pytorch.org/whl/cpu --quiet\n",
    "! pip install transformers pandas numpy scikit-learn umap-learn tqdm matplotlib --quiet"
   ]
  },
  {
   "cell_type": "code",
   "execution_count": null,
   "metadata": {
    "colab": {
     "base_uri": "https://localhost:8080/"
    },
    "id": "3JDUqrmL4zOw",
    "outputId": "c0555512-e13c-4479-e28f-6c30fccc94e5"
   },
   "outputs": [],
   "source": [
    "! cd /content && git clone https://github.com/EvanDufraisse/TPs-M2-Frugal-AI-back.git"
   ]
  },
  {
   "cell_type": "code",
   "execution_count": null,
   "metadata": {
    "colab": {
     "base_uri": "https://localhost:8080/"
    },
    "id": "gfPeLnYWpvXy",
    "outputId": "010d014c-f5c0-488c-c053-ac3bdcdd6b92"
   },
   "outputs": [],
   "source": [
    "! pip install /content/TPs-M2-Frugal-AI-back --quiet"
   ]
  },
  {
   "cell_type": "markdown",
   "metadata": {
    "id": "j2TPdaH3znfz"
   },
   "source": [
    "#### Load the dataset into a variable called `splits`:\n",
    "\n",
    "During this practical session, we're going to be using different versions of the dataset. We will load the dataset into a variable called `splits` that will be structured as such:\n",
    "\n",
    "```\n",
    "splits = {\n",
    "    \"train\": {\n",
    "            \"texts\": [\"I love this movie\", \"I hate this movie\", ...],\n",
    "            \"labels\": [1, 0, ...],\n",
    "            \"features\": []\n",
    "    \"val\": {\n",
    "            \"texts\": [],\n",
    "            \"labels\": [],\n",
    "            \"features\": []\n",
    "        },\n",
    "    \"test\": {\n",
    "            \"texts\": [],\n",
    "            \"labels\": [],\n",
    "            \"features\": []\n",
    "    },\n",
    "\n",
    "}\n",
    "\n",
    "\n",
    "```\n",
    "\n",
    "The current dataset is balanced, your first task is to load this dataset and store it in the `splits` variable following the above schema.\n",
    "\n"
   ]
  },
  {
   "cell_type": "code",
   "execution_count": null,
   "metadata": {
    "id": "gskEaSgyzZF9"
   },
   "outputs": [],
   "source": [
    "# 1.2 Load the train, validation and test datasets\n",
    "\n",
    "\n",
    "mapping_keys = {\n",
    "    \"review\": \"texts\",\n",
    "    \"rating\": \"labels\",\n",
    "}\n",
    "splits = {\n",
    "    \"train\": {},\n",
    "    \"val\": {},\n",
    "    \"test\": {},\n",
    "}\n",
    "\n",
    "# TODO: Your code here"
   ]
  },
  {
   "cell_type": "code",
   "execution_count": null,
   "metadata": {
    "id": "KLIDnaIYzZD2"
   },
   "outputs": [],
   "source": [
    "# 1.3 Complete the function below to plot the distribution of labels in the training dataset using a bar plot\n",
    "# Although the interest is limited in a binary classification problem, it is always good to check the distribution of labels\n",
    "from typing import List\n",
    "import matplotlib.pyplot as plt\n",
    "import numpy as np # (Optional, but recommended)\n",
    "\n",
    "# Write the function\n",
    "def plot_rating_histogram(list_labels: List[int]):\n",
    "    # TODO: your code here\n",
    "    pass\n",
    "\n",
    "# Call the function with the list of labels of the training dataset\n",
    "\n",
    "plot_rating_histogram(splits[\"train\"][\"labels\"])"
   ]
  },
  {
   "cell_type": "markdown",
   "metadata": {
    "id": "QPgF-f-Pz8y1"
   },
   "source": [
    "You should obtain something similar to this (style et bon goût isn't mandatory :) )\n",
    "![image.png](data:image/png;base64,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)"
   ]
  },
  {
   "cell_type": "markdown",
   "metadata": {
    "id": "6k8bEhD50M0C"
   },
   "source": [
    "For now the dataset is balanced, we will make an imbalanced version of its training set and validation set in the next task to explore the impacts of imbalanced data models performances."
   ]
  },
  {
   "cell_type": "code",
   "execution_count": null,
   "metadata": {
    "id": "7mSWDuWJzZBl"
   },
   "outputs": [],
   "source": [
    "# 1.4 Make the dataset imbalanced by removing negative samples so we only keep 5% of them in current training and validation\n",
    "from typing import Iterable\n",
    "import random\n",
    "\n",
    "# Seed for reproducibility\n",
    "random.seed(42)\n",
    "\n",
    "def make_imbalanced(splits, proportion:float=0.05):\n",
    "    \"\"\"Modifies splits by adding an entry \"train_imbalanced\" and \"validation_imbalanced\", with only 5% of the negative samples\n",
    "\n",
    "    Args:\n",
    "        splits (dict): A dictionary containing the splits\n",
    "        proportion (float, optional): proportion of negative labels to keep\n",
    "    \"\"\"\n",
    "    # TODO: your code here\n",
    "    pass\n",
    "\n",
    "make_imbalanced(splits, proportion =0.05)"
   ]
  },
  {
   "cell_type": "code",
   "execution_count": null,
   "metadata": {
    "id": "ED306D7QzY_K"
   },
   "outputs": [],
   "source": [
    "# 1.4 Plot the distribution of labels of the training and validation sets using a bar chart after making the dataset imbalanced\n",
    "\n",
    "plot_rating_histogram(splits[\"train_imbalanced\"][\"labels\"])\n",
    "plot_rating_histogram(splits[\"val_imbalanced\"][\"labels\"])"
   ]
  },
  {
   "cell_type": "code",
   "execution_count": null,
   "metadata": {
    "id": "DKIKimgNzY8r"
   },
   "outputs": [],
   "source": [
    "# Count and print the number of samples in the imbalanced dataset\n",
    "def label_counter(split):\n",
    "  # TODO: your code here\n",
    "  pass\n",
    "print(\"Number of samples in the imbalanced dataset: \", label_counter(splits[\"train_imbalanced\"]))\n",
    "print(\"Number of samples in the imbalanced dataset: \", label_counter(splits[\"train_imbalanced\"]))"
   ]
  },
  {
   "cell_type": "markdown",
   "metadata": {
    "id": "Z-wxxWPX06A4"
   },
   "source": [
    "## Part 2: Fitting models on an imbalanced dataset\n",
    "\n",
    "In this part the aim is to showcase the impact of dataset imbalance on downstream model classification performances. We will concentrate on the following models:\n",
    "- A four layer MLP\n",
    "- A 1-NN classifier"
   ]
  },
  {
   "cell_type": "code",
   "execution_count": null,
   "metadata": {
    "id": "DJSJYNiDzY6Q"
   },
   "outputs": [],
   "source": [
    "# 2.1 For a fair comparison, downsample the original training set to have the same number of samples as the imbalanced training set. Plot the distribution of labels using a bar chart after downsampling\n",
    "\n",
    "import random\n",
    "random.seed(42)\n",
    "\n",
    "def downsampling_train(splits:dict):\n",
    "    \"\"\"Downsamples the original training set to have the same number of samples as the imbalanced training set\n",
    "\n",
    "    Args:\n",
    "        splits (dict): A dictionary containing the splits\n",
    "    \"\"\"\n",
    "    # TODO: your code here\n",
    "\n",
    "    return splits\n",
    "\n",
    "downsampling_train(splits)\n",
    "\n",
    "plot_rating_histogram(splits[\"train\"][\"labels\"])\n"
   ]
  },
  {
   "cell_type": "code",
   "execution_count": null,
   "metadata": {
    "colab": {
     "base_uri": "https://localhost:8080/",
     "height": 385,
     "referenced_widgets": [
      "0197283a16fe4be4a29523b076ccf107",
      "953a044c4fe34447995d23e066704aff",
      "05476efb1cc94f0eba0a761f4a4a8e1b",
      "58066a0291104a4b9870375c9cae11a7",
      "127bd9702ffe4037b9359cb35f8c951f",
      "decd835bab024eb49f4dcd70b2d331d4",
      "c659850a5dd449af8b2ed31c5d954723",
      "aff05263b0714fbc91451af54aa98b2b",
      "22e0655749d441058a2bbd3679272285",
      "cbbe91b1664643ea9ca68f296decc460",
      "0d4d775600164cf2a7bec39f10191111",
      "8a415b12498f41b5bad62806e8de0106",
      "4fec87de630b42a2998106b78a02e0ec",
      "dc8efa26d86a4fc79ea8a273d2bac0c8",
      "1233c9e019624ba881c7b070169af206",
      "f9e9f9a87b4d4a95aa59428edc69f694",
      "23d7a7de5340480a9d1e8783613d1fd1",
      "9b4d1a98bef2433497fb153e11475afc",
      "38477459149440368be6467ea18e6d37",
      "2f9e59224a5546f6965e6ecb970b1165",
      "9951b7eb86ad47b2a31f55780e845140",
      "5c447937597649f1acd9b27a09a5af93",
      "4588e5d860fe4607b813c5acac98162f",
      "0fd388a99e8d4c76b6d9de5670e83735",
      "ab0db4db90a6407b86bd97e0a3ecf2ed",
      "417f6e06829045cf9fa4ebaccacfc694",
      "eab26f705d67479da282e01f1c0afaaa",
      "d7a97d8e190840d39c2588c9e52e1998",
      "121fba95ce4d46dc9d0843fd3cc9657d",
      "63ffa47a523d4195ac68e0fe2ca850aa",
      "78fe6c2dd5354ea6bd3e664bdda061ca",
      "413612547f3f4d648f99daa1dc435fdc",
      "5f92867a6cf8415db85146184883ae2c",
      "951ea2166d55435a937044bf68f85743",
      "7059b0dcec7f412699c6496e7c8b9e67",
      "774e479d20ec41189168a252d70a5084",
      "63167ddea88947c985f8a6b7fac7f73a",
      "15aa0ad73b654f94ba9c2e8aa45307ea",
      "8396b806df0b41aea9a4ecbeca9db948",
      "2a51859584a14aa092e4ac809942e3be",
      "c60e82a35470492d9bfcf3597f5bc74f",
      "8016ae8c4306441ab6fd9cd600ddd425",
      "d61bcb30019a4090a294749e5307839a",
      "85d1af9946ec482793148f2290577976",
      "57f92863de6544baae0c52e1b35ded00",
      "436ac52e40e74154ae2ed3702f0c4b59",
      "8f47577afda74174841cb953451fac47",
      "c033097df598418594421a65a25686d4",
      "98e0cc91651c47bba8fa619408df1e98",
      "6f6d18d22c494dab8d2bc1eb9a770d77",
      "a94b1b28b079424784714bd841b4a4c1",
      "328f099ccce049c1996b8ddfa4301da5",
      "9fa1f9c604024f38beea675ab8591d53",
      "a43f5046d9a8499ca806f6e2acdb246b",
      "170c5ed2cac6405ca7f36d0a2a50b81d",
      "aa2f229fdf3c47d3af73f99a67677118",
      "3911ec30aa7e409da3bf3ed18cf8dcc7",
      "4d3bebc2b2fa4a08861fefa15b00a348",
      "d567203882cf4c5885f972b86b3cb4af",
      "a8f04c5ba30240d09cd9120b6ba29703",
      "252d0f9ea204472da0eeac0b104851fc",
      "fee576b25cd34185b319eff901ebd80d",
      "dcf0b733e03a40bab18e44abefd174a6",
      "b3418b0707eb4c43b86abe53e6ce10c5",
      "9528c56823454c43826fca24304c4271",
      "ebbd1ea5422f413aa87fb40cdf07a0bf"
     ]
    },
    "id": "WYl0yQuizY3t",
    "outputId": "77de056b-5c69-40c8-c24f-ad5c270aeeed"
   },
   "outputs": [],
   "source": [
    "# 2.3 Create features for each split using Sentence Transformers\n",
    "\n",
    "from practical.models import SentenceBERTEncoder # You can go explore this code if you want to\n",
    "\n",
    "# Here is an example of how to use the SentenceBERT encoder to get embeddings\n",
    "sentencebert = SentenceBERTEncoder(path_model=\"sentence-transformers/all-MiniLM-L6-v2\")\n",
    "out = sentencebert.encode([\"This is a test sentence.\"])\n",
    "print(out.shape)\n",
    "\n",
    "\n"
   ]
  },
  {
   "cell_type": "code",
   "execution_count": null,
   "metadata": {
    "id": "Ff0-ZRFbzYzk"
   },
   "outputs": [],
   "source": [
    "# 2.3 Add \"features\" to the splits dictionary variable for each split\n",
    "# i.e. splits[\"train_imbalanced\"][\"features\"] should exist\n",
    "\n",
    "for split_name, split in splits.items():\n",
    "    # TODO: Your code here\n",
    "    pass\n"
   ]
  },
  {
   "cell_type": "markdown",
   "metadata": {
    "id": "Mrc2-CRU64vY"
   },
   "source": [
    "#### Observing the distribution of data in space through dimensionality reduction\n",
    "To get a hint about the difficulty of a classification task, one way is to reduce the dimensionality of the data using an algorithm such as PCA, t-SNE or UMAP and plot the data points in 2D.\n",
    "\n",
    "Those dimentionality reduction methods try to project high-dimension points into the 2D plane by minimizing their relative distance error (.i.e they try to maintain as much as possible the relative distance of the higher dimension)  \n",
    "\n",
    "If the data points of the different classes are well separated without supervision, it means that are points are already well distributed in feature-space by information useful for our classification.\n",
    "\n",
    "It is a good indicator that the classification task will be easy. If the data points are mixed, then we can only tell it will be harder, notably with simpler methods such as Linear SVM. See [Umap Website](https://umap-learn.readthedocs.io/en/latest/)"
   ]
  },
  {
   "cell_type": "code",
   "execution_count": null,
   "metadata": {
    "id": "H0Zaht-7zYvc"
   },
   "outputs": [],
   "source": [
    "# 2.4 Make a function to plot the UMAP projection of a split\n",
    "\n",
    "import umap\n",
    "\n",
    "# TODO: Complete the function\n",
    "\n",
    "def plot_umap_projection(splits:dict, split_name:str):\n",
    "    \"\"\"Plot the UMAP projection of a split\n",
    "\n",
    "    Args:\n",
    "        splits (dict): A dictionary containing the splits\n",
    "        split_name (str): The name of the split to plot\n",
    "    \"\"\"\n",
    "    reducer = umap.UMAP()\n",
    "\n",
    "    embedding = None # TODO: Change and complete\n",
    "\n",
    "    plt.scatter(embedding[:, 0], embedding[:, 1], c=splits[split_name][\"labels\"], s=10)\n",
    "    plt.gca().set_aspect('equal', 'datalim')\n",
    "    ax = plt.gca()\n",
    "    ax.spines['top'].set_visible(False)\n",
    "    ax.spines['right'].set_visible(False)\n",
    "    plt.title(f'UMAP projection of the {split_name} set')\n",
    "    plt.show()\n",
    "\n",
    "plot_umap_projection(splits, \"train\")"
   ]
  },
  {
   "cell_type": "code",
   "execution_count": null,
   "metadata": {
    "id": "DZuSQFgRzYtO"
   },
   "outputs": [],
   "source": [
    "# 2.4 Plot the UMAP projection of the imbalanced training set\n",
    "plot_umap_projection(splits, \"train_imbalanced\")"
   ]
  },
  {
   "cell_type": "markdown",
   "metadata": {
    "id": "CC0Lwv808cIS"
   },
   "source": [
    "### TODO\n",
    "### Comment on these projections, what do they tell us about our features? (French or English)"
   ]
  },
  {
   "cell_type": "markdown",
   "metadata": {
    "id": "CcZw789k8dwt"
   },
   "source": [
    "##### My answer (1-5 sentences):\n",
    "...\n",
    "..."
   ]
  },
  {
   "cell_type": "markdown",
   "metadata": {
    "id": "cQkI4BYG8kHa"
   },
   "source": [
    "### Train an MLP model on an imbalanced training sets\n",
    "\n",
    "A Multilayer Perceptron (MLP) is a basic type of universal neural network with an input layer, one or more hidden fc-layers, and an output layer, allowing it to learn complex patterns.\n",
    "\n",
    "The specific MLP we are using has four layers with sizes (384, 64), (64, 128), (128, 32), and (32, 2), designed to take input tensors of shape (batch_size, 384) and output predictions of shape (batch_size, 2). It's commonly used for classification or regression tasks.\n",
    "\n",
    "384 is the size of our feature space."
   ]
  },
  {
   "cell_type": "code",
   "execution_count": null,
   "metadata": {
    "id": "I9xvmUM28VEX"
   },
   "outputs": [],
   "source": [
    "# 2.5 You can initialize the above MLP with this function\n",
    "from practical.models.fourlayermlp import FourLayerMLP\n",
    "\n",
    "mlp = FourLayerMLP()"
   ]
  },
  {
   "cell_type": "code",
   "execution_count": null,
   "metadata": {
    "id": "E5ILTyO-9WNN"
   },
   "outputs": [],
   "source": [
    "# 2.5 You can load dataloaders with this function\n",
    "from practical.data.dataloaders import build_dataloader\n",
    "\n",
    "batch_size = 32\n",
    "# TODO: complete to load `train_imbalanced` and `val_imbalanced`\n",
    "\n",
    "train_loader = # TODO: Complete function there\n",
    "val_loader = # TODO: Complete function there\n",
    "\n"
   ]
  },
  {
   "cell_type": "code",
   "execution_count": null,
   "metadata": {
    "id": "EdWLkRoI-1Rz"
   },
   "outputs": [],
   "source": [
    "# 2.5 Plot function\n",
    "# At the end of the training we would like to plot series of evolving measures\n",
    "# across epochs. Complete the below function to do it\n",
    "from typing import List\n",
    "def plot_metrics(\n",
    "    epochs:List[int] = [0,1,2,3,4],\n",
    "    list_of_losses:List(List[int]) = [[0.6,0.53,0.51,0.42,0.38]],\n",
    "    list_of_labels = [\"Training Loss\"],\n",
    "    title=None,\n",
    "    xlabel=\"Epochs\",\n",
    "    ylabel=\"Loss\"\n",
    "    ):\n",
    "\n",
    "    # TODO: your code here\n",
    "\n",
    "    plt.xlabel(xlabel)\n",
    "    plt.ylabel(ylabel)\n",
    "    if not(title is None):\n",
    "        plt.title(title)\n",
    "    plt.legend()\n",
    "    ax = plt.gca()\n",
    "    ax.spines['top'].set_visible(False)\n",
    "    ax.spines['right'].set_visible(False)\n",
    "\n",
    "    plt.show()\n",
    "\n"
   ]
  },
  {
   "cell_type": "code",
   "execution_count": null,
   "metadata": {
    "id": "QvLDcUt09WLF"
   },
   "outputs": [],
   "source": [
    "# 2.5 Using the functions in practical.training.utils make a training script or function\n",
    "# Make a training script for 200 epochs and plot the validation and training losses\n",
    "# At the end the best model according to validation loss should be loaded\n",
    "import torch\n",
    "import torch.nn as nn\n",
    "import torch.optim as optim\n",
    "from tqdm.auto import tqdm # progress bar\n",
    "from practical.models.fourlayermlp import FourLayerMLP\n",
    "\n",
    "\n",
    "from practical.training.utils import train_one_batch, evaluate_on_dataloader, save_model, load_model\n",
    "# read the docstrings of each of the above functions to make your implementation\n",
    "\n",
    "learning_rate = 0.001\n",
    "num_epochs = 200\n",
    "criterion = nn.CrossEntropyLoss()\n",
    "optimizer = optim.Adam(mlp.parameters(), lr=learning_rate)\n",
    "\n",
    "logged_metrics = {\n",
    "    \"epochs\": [],\n",
    "    \"training_loss_epochs\": [],\n",
    "    \"validation_loss_epochs\": [],\n",
    "}\n",
    "\n",
    "best_model = None\n",
    "best_val_loss = float(\"inf\")\n",
    "\n",
    "model = FourLayerMLP()\n",
    "\n",
    "for epoch in tqdm(range(num_epochs), desc=\"Epochs\", unit=\"epoch\"):\n",
    "\n",
    "  # TODO: your code here\n",
    "  pass\n",
    "\n",
    "# Plot the training and validation loss\n",
    "\n",
    "plot_metrics(\n",
    "    logged_metrics[\"epochs\"],\n",
    "    [logged_metrics[\"training_loss_epochs\"], logged_metrics[\"validation_loss_epochs\"]],\n",
    "    [\"Training\", \"Validation\"],\n",
    "    ylabel=\"Loss\",\n",
    "    title=\"Training and Validation Loss\"\n",
    ")"
   ]
  },
  {
   "cell_type": "code",
   "execution_count": null,
   "metadata": {
    "id": "NeIVzdkw9WIg"
   },
   "outputs": [],
   "source": [
    "# 2.5 Evaluate the model on the imbalance train set by using the classification_report function from sklearn.metrics\n",
    "from sklearn.metrics import classification_report\n",
    "\n",
    "# TODO: your code here"
   ]
  },
  {
   "cell_type": "code",
   "execution_count": null,
   "metadata": {
    "id": "7Nn4STa99WGa"
   },
   "outputs": [],
   "source": [
    "# 2.6 Evaluate the model on the test set by using the classification_report function from sklearn.metrics\n",
    "from sklearn.metrics import classification_report\n",
    "\n",
    "# TODO: your code here"
   ]
  },
  {
   "cell_type": "markdown",
   "metadata": {
    "id": "afAk9SKAEkLt"
   },
   "source": [
    "#### TODO\n",
    "#### Comment the classification results of the MLP from the loss curves and the classification report. (French or English)\n"
   ]
  },
  {
   "cell_type": "markdown",
   "metadata": {
    "id": "j_geE-vkEpQL"
   },
   "source": [
    "##### My answer (1-5 sentences):\n",
    "..."
   ]
  },
  {
   "cell_type": "markdown",
   "metadata": {
    "id": "lNLzvK0fHtVG"
   },
   "source": [
    "#### TODO\n",
    "Compare the performance on the test set between the best_model and the last_epoch model\n",
    "#### Does the validation loss model selection work for the classification task at hand? Why? (French or English)"
   ]
  },
  {
   "cell_type": "markdown",
   "metadata": {
    "id": "wyu00WykICdR"
   },
   "source": [
    "\n",
    "#### My answer (1-5sentences):\n",
    "..."
   ]
  },
  {
   "cell_type": "markdown",
   "metadata": {
    "id": "roKI6wX2IITU"
   },
   "source": [
    "#### TODO\n",
    "\n",
    "#### Give examples of two other criteria we could use to select the best model (French or English)"
   ]
  },
  {
   "cell_type": "markdown",
   "metadata": {
    "id": "Y9iRjWX8ISAF"
   },
   "source": [
    "##### My answer (1-5sentences):\n",
    "..."
   ]
  },
  {
   "cell_type": "code",
   "execution_count": null,
   "metadata": {
    "id": "V0g-lFlpHsaS"
   },
   "outputs": [],
   "source": [
    "# 2.7 Reproduce the experiment but use Macro-F1 score as best_model selection signal\n",
    "# Make one plot for the evolution of losses\n",
    "# Make one plot for the evolution of f1-scores\n",
    "# Print the classification report of the best_model on the test set\n",
    "from sklearn.metrics import f1_score # read the documentation for f1-MAC\n",
    "\n",
    "# TODO: your code here"
   ]
  },
  {
   "cell_type": "markdown",
   "metadata": {
    "id": "Jo9nA1VIJLwA"
   },
   "source": [
    "#### Simple 1-NN classifier on the same dataset\n",
    "We now try a 1-NN classifier on the same dataset.\n",
    "#### TODO\n",
    "#### What are the advantages and disadvantages of this classifier compared to the MLP? (French or English)\n"
   ]
  },
  {
   "cell_type": "markdown",
   "metadata": {
    "id": "ywQFCnNNJR8_"
   },
   "source": [
    "##### My answer (1-5 sentences):\n",
    "..."
   ]
  },
  {
   "cell_type": "code",
   "execution_count": null,
   "metadata": {
    "id": "Ewrm-hci9WEW"
   },
   "outputs": [],
   "source": [
    "# 2.8 Train a 1-NN classifier on the imbalanced training set and evaluate it on the test set using the classification_report function from sklearn.metrics\n",
    "from sklearn.neighbors import KNeighborsClassifier\n",
    "\n",
    "# TODO: your code here"
   ]
  },
  {
   "cell_type": "markdown",
   "metadata": {
    "id": "qtOWSiA4JbBr"
   },
   "source": [
    "#### TODO\n",
    "\n",
    "#### What do you observe compared to the MLP? Why? (French or English)"
   ]
  },
  {
   "cell_type": "markdown",
   "metadata": {
    "id": "MdFgYfgdJlQF"
   },
   "source": [
    "#### My answer (1-5 sentences):\n",
    "..."
   ]
  },
  {
   "cell_type": "markdown",
   "metadata": {
    "id": "lj-4mLH3JvXF"
   },
   "source": [
    "## Part 3: Data Augmentation\n",
    "\n",
    "### Classical Data Augmentation\n",
    "One way to mitigate the effect of imbalanced data is to use data augmentation. In classifical feature-based data augmentation, we can distinguish three types of data augmentation:\n",
    "- Oversampling: oversample the minority class samples in the training set\n",
    "- Undersampling: remove members of the majority class in the training set\n",
    "- SMOTE: Synthetic Minority Over-sampling Technique, which generates synthetic samples of the minority class by interpolating between existing samples."
   ]
  },
  {
   "cell_type": "markdown",
   "metadata": {
    "id": "Tz9TBHnVJ6ik"
   },
   "source": [
    "#### TODO\n",
    "\n",
    "#### Explain when undersampling is not a good idea. (French or English)"
   ]
  },
  {
   "cell_type": "markdown",
   "metadata": {
    "id": "iIZgLlsQJ_PF"
   },
   "source": [
    "##### My answer (1-5 sentences):\n",
    "..."
   ]
  },
  {
   "cell_type": "markdown",
   "metadata": {
    "id": "AUrZ28WDKERm"
   },
   "source": [
    "#### TODO\n",
    "\n",
    "#### Explain how you expect oversampling and SMOTE to impact the 1-NN and MLP models. (French or English)"
   ]
  },
  {
   "cell_type": "markdown",
   "metadata": {
    "id": "cR-t3iedKJum"
   },
   "source": [
    "#### My answer (1-5 sentences):\n",
    "..."
   ]
  },
  {
   "cell_type": "markdown",
   "metadata": {
    "id": "m_j7RmEaKMSJ"
   },
   "source": [
    "In the following cells you'll implement data augmentation using oversampling and SMOTE approaches"
   ]
  },
  {
   "cell_type": "code",
   "execution_count": null,
   "metadata": {
    "id": "u6uHupRnJu24"
   },
   "outputs": [],
   "source": [
    "# 3.1 Implementation of oversampling\n",
    "# You will oversample the minority class so as to have the same number of samples in the positive and negative classes\n",
    "# Complete the function create_oversampled_training\n",
    "\n",
    "num_positive_labels = sum([splits[\"train_imbalanced\"][\"labels\"][i] for i in range(len(splits[\"train_imbalanced\"][\"labels\"]))])\n",
    "num_negative_labels = len(splits[\"train_imbalanced\"][\"labels\"]) - num_positive_labels\n",
    "number_of_samples_to_generate = num_positive_labels - num_negative_labels\n",
    "\n",
    "def create_oversampled_training(splits, num_samples):\n",
    "    \"\"\"\n",
    "    Create an oversampled training set by duplicating the negative samples and creating a new entry in splits called \"train_oversampled\"\n",
    "\n",
    "    \"\"\"\n",
    "    # TODO: your code here\n",
    "\n",
    "    return splits\n",
    "\n",
    "splits = create_oversampled_training(splits, number_of_samples_to_generate)"
   ]
  },
  {
   "cell_type": "code",
   "execution_count": null,
   "metadata": {
    "id": "CAqorRD19WBs"
   },
   "outputs": [],
   "source": [
    "# 3.2 Check the change of performance of the MLP model on the oversampled training set (plot losses, f1_macro and classification report as before)\n",
    "\n",
    "# TODO: your code here\n"
   ]
  },
  {
   "cell_type": "code",
   "execution_count": null,
   "metadata": {
    "id": "py1Nc4KP9WAM"
   },
   "outputs": [],
   "source": [
    "# 3.3 Check the change of performance of the 1-NN model on the oversampled training set (classification report)\n",
    "\n",
    "# TODO: your code here\n"
   ]
  },
  {
   "cell_type": "markdown",
   "metadata": {
    "id": "y-U82l8cKktb"
   },
   "source": [
    "#### TODO\n",
    "\n",
    "#### Compare the classification results of the MLP and 1-NN models between the imbalanced and oversampled datasets. (French or English)"
   ]
  },
  {
   "cell_type": "markdown",
   "metadata": {
    "id": "okdjASamKuba"
   },
   "source": [
    "#### My answer (1-5 sentences):\n",
    "..."
   ]
  },
  {
   "cell_type": "markdown",
   "metadata": {
    "id": "D9R37W_wKxgf"
   },
   "source": [
    "#### SMOTE Description\n",
    "\n",
    "To create a synthetic individual, the steps defined in the SMOTE algorithm are as follows:\n",
    "\n",
    "Randomly select an “initial” minority observation.\n",
    "- Identify its k nearest neighbors among the minority observations (where k is a user-defined parameter).\n",
    "- Randomly select one of the k nearest neighbors.\n",
    "- Randomly generate a coefficient $0<alpha<1$.\n",
    "- Create a new individual by interpolating between the initial observation and the chosen nearest neighbor, according to the value of the coefficient.\n",
    "For example, if alpha=0.5, the new individual will be positioned halfway between the initial observation and the chosen nearest neighbor.\n",
    "- The individual is added to the list of initial candidate individuals (this part is not necesarily in all SMOTE approaches)\n",
    "\n"
   ]
  },
  {
   "cell_type": "markdown",
   "metadata": {
    "id": "jAIaR4-DMBjp"
   },
   "source": [
    "#### TODO\n",
    "\n",
    "#### Based on this brief description of SMOTE, what do you think are the advantages and disadvantages of SMOTE compared to oversampling? Why should it work better in our case? (You can have a look at the implementation of the SentenceBert encoder) (French or English)"
   ]
  },
  {
   "cell_type": "markdown",
   "metadata": {
    "id": "zo1mo2wCMIY4"
   },
   "source": [
    "#### My answer (1-5 sentences):\n",
    "..."
   ]
  },
  {
   "cell_type": "code",
   "execution_count": null,
   "metadata": {
    "id": "jcr3T2p89V8b"
   },
   "outputs": [],
   "source": [
    "# 3.4 create synthetic samples using ``SMOTE`` like algorithm from the train imbalance dataset\n",
    "import random\n",
    "\n",
    "\n",
    "number_of_samples_to_generate = None # TODO: change\n",
    "\n",
    "def create_smote_training(splits, num_samples):\n",
    "    \"\"\"\n",
    "    Create a synthetic training set by generating new samples using SMOTE and creating a new entry in splits called \"train_smote\"\n",
    "    \"\"\"\n",
    "\n",
    "    labels = splits[\"train_imbalanced\"][\"labels\"]\n",
    "    features = splits[\"train_imbalanced\"][\"features\"]\n",
    "\n",
    "    negative_indexes = [i for i, label in enumerate(labels) if label == 0]\n",
    "    positive_indexes = [i for i, label in enumerate(labels) if label == 1]\n",
    "\n",
    "    negative_features = [elem for elem in features[negative_indexes]]\n",
    "    positive_features = [elem for elem in features[positive_indexes]]\n",
    "\n",
    "    len_neg_init =len(negative_features)\n",
    "\n",
    "    new_negative_features = negative_features\n",
    "    while len(new_negative_features) < num_samples+len_neg_init:\n",
    "\n",
    "      # TODO: your code here\n",
    "\n",
    "      pass\n",
    "\n",
    "\n",
    "    new_negative_labels = [0]*len(new_negative_features)\n",
    "\n",
    "    splits[\"train_smote\"] = {\n",
    "        \"labels\": [1]*len(positive_features) + new_negative_labels,\n",
    "        \"features\": positive_features + new_negative_features\n",
    "    }\n",
    "    return splits\n",
    "\n",
    "splits = create_smote_training(splits, number_of_samples_to_generate)"
   ]
  },
  {
   "cell_type": "code",
   "execution_count": null,
   "metadata": {
    "id": "jEQgbTa8MwwU"
   },
   "outputs": [],
   "source": [
    "# 3.4 Plot the UMAP projection of the SMOTE training set\n",
    "\n",
    "# TODO: your code here"
   ]
  },
  {
   "cell_type": "code",
   "execution_count": null,
   "metadata": {
    "id": "r4Gyc0DWM0rg"
   },
   "outputs": [],
   "source": [
    "# 3.4 Plot the UMAP projection of the oversampled training set\n",
    "\n",
    "# TODO: your code here"
   ]
  },
  {
   "cell_type": "code",
   "execution_count": null,
   "metadata": {
    "id": "pHKi0iU5M3rL"
   },
   "outputs": [],
   "source": [
    "# 3.5 Check the performances of the MLP model on the oversampled training set (plot losses, f1-mac, and classification report)"
   ]
  },
  {
   "cell_type": "code",
   "execution_count": null,
   "metadata": {
    "id": "Rh2j7TdpM9TU"
   },
   "outputs": [],
   "source": [
    "# 3.6 Check the performances of the MLP model on the SMOTE training set (plot losses, f1-mac, and classification report)"
   ]
  },
  {
   "cell_type": "markdown",
   "metadata": {
    "id": "7Ulq1CY-NY-m"
   },
   "source": [
    "### Data Augmentation through Text Augmentation\n",
    "\n",
    "Text augmentation is a technique which consists in generating new text samples from existing ones. It can be used to increase the size of the training set and improve the generalization of the model.\n",
    "\n",
    "\n",
    "A usual historical text augmentation is to swap words using synonyms such as the ones supplied in [WordNet](https://wordnet.princeton.edu/). However, this technique is not always efficient as it can change the meaning of the sentence.\n",
    "\n",
    "Two other techniques can be envisioned, and are the ones we will explore in this practical session"
   ]
  },
  {
   "cell_type": "markdown",
   "metadata": {
    "id": "bHoK4gS_NtD2"
   },
   "source": [
    "The second one is based on translation models. I'm not going to present it, but rather leave you to think about how you could use translation models to extend your dataset.\n",
    "#### TODO\n",
    "\n",
    "#### How would you augment your dataset using two translation models? (French or English)"
   ]
  },
  {
   "cell_type": "markdown",
   "metadata": {
    "id": "HNgqB3ObNwuk"
   },
   "source": [
    "#### My answer (1-5 sentences):\n",
    "..."
   ]
  },
  {
   "cell_type": "markdown",
   "metadata": {
    "id": "gQria7x4N0zT"
   },
   "source": [
    "The third technique is related to the generation of samples using generative models. In this case, we will a lightweight model called OPT-125M to generate new samples."
   ]
  },
  {
   "cell_type": "code",
   "execution_count": null,
   "metadata": {
    "id": "Mzx4Wv5vNYVZ"
   },
   "outputs": [],
   "source": [
    "from transformers import AutoModelForCausalLM, AutoTokenizer\n",
    "tokenizer = AutoTokenizer.from_pretrained(\"facebook/opt-125m\")\n",
    "model = AutoModelForCausalLM.from_pretrained(\"facebook/opt-125m\", pad_token_id=tokenizer.eos_token_id)"
   ]
  },
  {
   "cell_type": "code",
   "execution_count": null,
   "metadata": {
    "id": "ejBedykVN8zR"
   },
   "outputs": [],
   "source": [
    "# Example of how to complete a sequence with OPT-125M\n",
    "input_text =  \"San Francisco is\"\n",
    "model_inputs = tokenizer.encode_plus(input_text, return_tensors=\"pt\")\n",
    "beam_outputs = model.generate(\n",
    "    **model_inputs,\n",
    "    max_new_tokens=40,\n",
    "    num_beams=5,\n",
    "    do_sample=True,\n",
    "    no_repeat_ngram_size=2,\n",
    "    num_return_sequences=1,\n",
    "    temperature=0.9,\n",
    "    early_stopping=True\n",
    ")\n",
    "out = tokenizer.batch_decode(beam_outputs, skip_special_tokens=True)[0]\n",
    "print(out)"
   ]
  },
  {
   "cell_type": "markdown",
   "metadata": {
    "id": "A0kmIwgSODGN"
   },
   "source": [
    "#### TODO\n",
    "\n",
    "#### Explain how we could generate new samples using OPT-125M? (French or English)"
   ]
  },
  {
   "cell_type": "markdown",
   "metadata": {
    "id": "uXby3h-zOMS7"
   },
   "source": [
    "#### My answer (1-3 sentences):\n",
    "..."
   ]
  },
  {
   "cell_type": "markdown",
   "metadata": {
    "id": "knI_BIKJOkc7"
   },
   "source": [
    "### Data Imbalance mitigation through Weighting Loss\n",
    "Another way to tackle the imbalanced dataset is to use weighted cross-entropy or focal-loss\n",
    "\n",
    "We start with the weighted cross-entropy loss, which consists in weighting the loss of the minority class more than the loss of the majority class."
   ]
  },
  {
   "cell_type": "markdown",
   "metadata": {
    "id": "d40hF6b4RMcR"
   },
   "source": [
    "## Cross-Entropy in Binary Classification\n",
    "In binary classification, the cross-entropy loss measures how well the predicted probabilities of two classes (0 and 1) match the true labels.\n",
    "\n",
    "### Definition\n",
    "- Let \\( y \\) be the true label (0 or 1).\n",
    "- Let $(\\hat{y})$ be the predicted probability of the positive class (1).\n",
    "\n",
    "### Formula\n",
    "The cross-entropy loss \\( L \\) is defined as:\n",
    "$$\n",
    "L(y, \\hat{y}) = -[y \\log(\\hat{y}) + (1 - y) \\log(1 - \\hat{y})]\n",
    "$$\n",
    "\n",
    "### Interpretation\n",
    "- When \\( y = 1 \\): The loss becomes $-\\log(\\hat{y})$. The model is penalized more if it predicts a low probability for the positive class.\n",
    "- When \\( y = 0 \\): The loss becomes $-\\log(1 - \\hat{y})$. The model is penalized more if it predicts a high probability for the positive class.\n",
    "\n",
    "## Weighted Cross-Entropy in Binary Classification\n",
    "Weighted cross-entropy introduces a weighting factor to account for class imbalance, assigning different importance to each class.\n",
    "\n",
    "### Definition\n",
    "- Let $ w_1 $ be the weight for the positive class (1).\n",
    "- Let $ w_0 $ be the weight for the negative class (0).\n",
    "\n",
    "### Formula\n",
    "The weighted cross-entropy loss $ L_w $ is defined as:\n",
    "$$\n",
    "L_w(y, \\hat{y}) = -[w_1 \\cdot y \\log(\\hat{y}) + w_0 \\cdot (1 - y) \\log(1 - \\hat{y})]\n",
    "$$\n",
    "\n",
    "Which gives over a batch\n",
    "\n",
    "$$\n",
    "L_{batch} = -\\frac{1}{N} \\sum_{i=1}^{N} \\left( w_1 \\cdot y_i \\log(\\hat{y}_i) + w_0 \\cdot (1 - y_i) \\log(1 - \\hat{y}_i) \\right)\n",
    "$$\n",
    "\n",
    "### Interpretation\n",
    "- The weights $w_1$ and $w_0$ adjust the contribution of each class to the total loss. For instance, if the positive class is rare, $w_1$ can be set higher to ensure the model focuses on predicting the minority class effectively."
   ]
  },
  {
   "cell_type": "markdown",
   "metadata": {
    "id": "ixRoLoQWOo9T"
   },
   "source": [
    "#### TODO\n",
    "\n",
    "#### Based on the computation of the cross-entropy loss, think of what is a good weighting scheme to give both classes the same importance? Implement it below (don't answer)\n",
    "\n",
    "#### Apart from the weighting scheme, what should you change in your training compared to the use of plain cross-entropy ? (answer in French or English)\n"
   ]
  },
  {
   "cell_type": "markdown",
   "metadata": {
    "id": "Q4W8_c3gQLAJ"
   },
   "source": [
    "#### My answer (3 - 10 WORDS)\n",
    "..."
   ]
  },
  {
   "cell_type": "code",
   "execution_count": null,
   "metadata": {
    "id": "obYMkbBhO8Yc"
   },
   "outputs": [],
   "source": [
    "# 3.5 Train the MLP model on the imbalanced training set with a weighted cross-entropy loss and evaluate it on the test set.\n",
    "# Use the classification_report function from sklearn.metrics to evaluate the model on the test set. Plot all the metrics as before\n",
    "\n",
    "# TODO: your code here\n",
    "\n",
    "weight_negative = None # TODO: to change\n",
    "weight_positive = None # TODO: to change\n",
    "\n",
    "criterion = nn.CrossEntropyLoss(weight=torch.tensor([weight_negative, weight_positive]))\n",
    "\n",
    "# TODO: your code here\n"
   ]
  },
  {
   "cell_type": "markdown",
   "metadata": {
    "id": "FqgsNBTmQx9X"
   },
   "source": [
    "### Focal Loss: An Extension of Weighted Cross-Entropy in Binary Classification\n",
    "\n",
    "#### Introduction\n",
    "Focal loss is a modification of the weighted cross-entropy loss, designed to address the issue of class imbalance and focus more on hard-to-classify examples. It was introduced to improve the performance of models on tasks where the minority class is rare.\n",
    "\n",
    "### Weighted Cross-Entropy Recap\n",
    "\n",
    "#### Definition\n",
    "In binary classification, the weighted cross-entropy loss is defined as:\n",
    "$$\n",
    "L_w = -\\frac{1}{N} \\sum_{i=1}^{N} \\left( w_1 \\cdot y_i \\log(\\hat{y}_i) + w_0 \\cdot (1 - y_i) \\log(1 - \\hat{y}_i) \\right)\n",
    "$$\n",
    "- $ L_w $: Weighted cross-entropy loss for the batch.\n",
    "- $ N $: Number of samples.\n",
    "- $ y_i $: True label for the $ i $-th sample (0 or 1).\n",
    "- $ \\hat{y}_i $: Predicted probability of the positive class (1).\n",
    "- $ w_1 $, $ w_0 $: Weights for the positive and negative classes, respectively.\n",
    "\n",
    "#### Focal Loss Definition\n",
    "Focal loss modifies the standard cross-entropy (and weighted cross-entropy) by adding a focusing parameter $ \\gamma $, which reduces the loss contribution from easy-to-classify examples, thereby focusing more on hard examples.\n",
    "\n",
    "##### Formula\n",
    "The focal loss $ L_f $ for binary classification can be expressed as:\n",
    "$$\n",
    "L_f = -\\frac{1}{N} \\sum_{i=1}^{N} \\left( w_1 \\cdot y_i \\cdot (1 - \\hat{y}_i)^\\gamma \\log(\\hat{y}_i) + w_0 \\cdot (1 - y_i) \\cdot \\hat{y}_i^\\gamma \\log(1 - \\hat{y}_i) \\right)\n",
    "$$\n",
    "- $ \\gamma $: Focusing parameter (typically set to 2). A higher value increases the focus on hard examples. See [this repo](https://github.com/clcarwin/focal_loss_pytorch).\n",
    "\n",
    "### Key Components\n",
    "- **Modulating Factor**: The term $ (1 - \\hat{y}_i)^\\gamma $ for the positive class and $ \\hat{y}_i^\\gamma $ for the negative class down-weight the loss for well-classified examples.\n",
    "- **Focus on Hard Examples**: When the predicted probability $ \\hat{y}_i $ is low for positive samples or high for negative samples, the loss contribution becomes larger, directing the model's attention where it's needed most.\n",
    "\n",
    "##### Comparison with Weighted Cross-Entropy\n",
    "1. **Class Imbalance Handling**:\n",
    "   - **Weighted Cross-Entropy**: Assigns different weights to classes.\n",
    "   - **Focal Loss**: Further emphasizes hard-to-classify examples, reducing the influence of easy examples.\n",
    "\n",
    "2. **Focus Mechanism**:\n",
    "   - **Weighted Cross-Entropy**: Utilizes weights to manage imbalance.\n",
    "   - **Focal Loss**: Introduces the focusing parameter $ \\gamma $ to adjust the influence of each example based on its predicted probability.\n",
    "\n",
    "3. **Use Cases**:\n",
    "   - **Weighted Cross-Entropy**: Effective for imbalanced datasets.\n",
    "   - **Focal Loss**: Particularly useful when there's a significant class imbalance and a need to prioritize difficult examples."
   ]
  },
  {
   "cell_type": "code",
   "execution_count": null,
   "metadata": {
    "id": "f7a0ycu_UGZD"
   },
   "outputs": [],
   "source": [
    "# 3.6 Train the MLP model on the imbalanced training set with a weighted focal loss and evaluate it on the test set.\n",
    "# Plot the evolution of the best model for gamma ranging in [0, 0.5, 1, 2, 5, 10]\n",
    "from practical.training import FocalLoss\n",
    "\n",
    "# TODO: your code here\n",
    "\n",
    "weight_negative = None # TODO: to change\n",
    "weight_positive = None # TODO: to change\n",
    "alpha = torch.tensor([weight_negative, weight_positive])\n",
    "gamma = None # TODO: to change\n",
    "\n",
    "criterion = FocalLoss(alpha=alpha, gamma=gamma)\n",
    "\n",
    "# TODO: your code here"
   ]
  },
  {
   "cell_type": "markdown",
   "metadata": {
    "id": "ETxCjHDDVK33"
   },
   "source": [
    "#### TODO\n",
    "\n",
    "#### What criterion are you using to select the best model each time?"
   ]
  },
  {
   "cell_type": "markdown",
   "metadata": {
    "id": "hu4hmkhPVRWg"
   },
   "source": [
    "#### My answer (1 word)\n",
    "..."
   ]
  },
  {
   "cell_type": "markdown",
   "metadata": {
    "id": "HzalqmAUVafV"
   },
   "source": [
    "## Part 4: Few-shot and Zero-shot Learning\n",
    "\n",
    "We get back to a balanced setting\n",
    "\n",
    "### Few-Shot Learning\n",
    "- **Definition**: A machine learning approach where a model learns to make predictions based on a limited number of training examples.\n",
    "\n",
    "#### Terminology: Understanding Few shot in \"n-Shot x m-Ways\"\n",
    "\n",
    "- **n-Shot**: Refers to the number of examples provided per class during training. For example:\n",
    "  - **1-Shot**: One example per class.\n",
    "  - **5-Shot**: Five examples per class.\n",
    "\n",
    "- **m-Ways**: Refers to the number of different classes or categories that the model will classify. For example:\n",
    "  - **2-Ways**: Two distinct classes.\n",
    "  - **10-Ways**: Ten distinct classes.\n",
    "\n",
    "### Zero-Shot Learning\n",
    "- **Definition**: A method where a model makes predictions for classes it has never seen during training, leveraging knowledge from related tasks or descriptions.\n",
    "\n",
    "### When to Use:\n",
    "- **Few-Shot**: When labeled data is minimal but you have some examples to guide learning.\n",
    "- **Zero-Shot**: When no labeled examples exist for certain categories, relying instead on learned representations or descriptions.\n"
   ]
  },
  {
   "cell_type": "code",
   "execution_count": null,
   "metadata": {
    "id": "vZPXbwD9UGSl"
   },
   "outputs": [],
   "source": [
    "# 4.1 Make a series of training sets in splits for our binary classification such\n",
    "# that we have n-shot x 2-ways with n in [1,2,5,10,20,30,50]\n",
    "\n",
    "# TODO: your code here"
   ]
  },
  {
   "cell_type": "code",
   "execution_count": null,
   "metadata": {
    "id": "7P_cLm90UGQ7"
   },
   "outputs": [],
   "source": [
    "# 4.2 Using a linear SVM, plot the evolution of f1-macro with the increase of n\n",
    "from sklearn.svm import LinearSVC\n",
    "\n",
    "# TODO: your code here"
   ]
  },
  {
   "cell_type": "markdown",
   "metadata": {
    "id": "C0dfx4ISXxz7"
   },
   "source": [
    "## In-Context Learning in Few-Shot Setting\n",
    "\n",
    "### Definition\n",
    "In-context learning allows models to adapt to new tasks by providing examples within the input, especially useful in few-shot scenarios.\n",
    "\n",
    "### Example: Binary Sentiment Classification\n",
    "\n",
    "- **Input**: \"The movie was fantastic! [Sentiment: Positive]  \n",
    "The food was terrible. [Sentiment: Negative]  \n",
    "I loved the atmosphere. [Sentiment: ?\"  \n",
    "- **Output**: **Positive**\n",
    "\n",
    "#### Summary\n",
    "The model learns sentiment classification by inferring from provided examples, requiring no retraining for new tasks."
   ]
  },
  {
   "cell_type": "code",
   "execution_count": null,
   "metadata": {
    "id": "Cak3f7CbZMXU"
   },
   "outputs": [],
   "source": [
    "# 4.2 make a function that takes a number of shots, a balanced dataset (look 4.4)\n",
    "# return a string containing n examples\n",
    "\n",
    "# TODO: Your code here"
   ]
  },
  {
   "cell_type": "code",
   "execution_count": null,
   "metadata": {
    "id": "byh4m6qVZo9k"
   },
   "outputs": [],
   "source": [
    "# 4.3 make a function that complete a string by adding a sentence (look 4.4)\n",
    "# and expect the next token of the sequence to be [\"negative\", \"positive\"]\n",
    "\n",
    "# TODO: Your code here"
   ]
  },
  {
   "cell_type": "markdown",
   "metadata": {
    "id": "fBbZ8FpHZoJl"
   },
   "source": [
    "Below is a code to perform next token prediction manually, token by token\n",
    "The next cell has already an implementation that allows to perform sentiment prediction on a sentence"
   ]
  },
  {
   "cell_type": "code",
   "execution_count": null,
   "metadata": {
    "colab": {
     "base_uri": "https://localhost:8080/"
    },
    "id": "WnmEBTYjaI6t",
    "outputId": "04f5f435-5b51-480d-a8c9-2ddad3655a58"
   },
   "outputs": [],
   "source": [
    "import torch\n",
    "from transformers import AutoTokenizer\n",
    "\n",
    "\n",
    "# Load pre-trained model and tokenizer\n",
    "model_name = \"facebook/opt-125m\"  # Replace with your chosen decoder model\n",
    "tokenizer = AutoTokenizer.from_pretrained(model_name)\n",
    "\n",
    "\n",
    "mapping_tokens = {\n",
    "    \"positive\": 22173,\n",
    "    \"negative\": 33407,\n",
    "}\n",
    "\n",
    "print(tokenizer.decode(mapping_tokens[\"positive\"]))\n",
    "print(tokenizer.decode(mapping_tokens[\"negative\"]))"
   ]
  },
  {
   "cell_type": "code",
   "execution_count": null,
   "metadata": {
    "colab": {
     "base_uri": "https://localhost:8080/"
    },
    "id": "7agE2UdBUGNL",
    "outputId": "345013c6-934a-4fe3-8659-ff6b50d55185"
   },
   "outputs": [],
   "source": [
    "# 4.4 Few shot with In-Context learning\n",
    "from transformers import AutoModelForCausalLM\n",
    "model = AutoModelForCausalLM.from_pretrained(model_name, pad_token_id=tokenizer.eos_token_id)\n",
    "\n",
    "input_text = \"{'sentence': 'The movie was fantastic!', 'sentiment': 'positive'}, {'sentence': 'The food was terrible.', 'sentiment': 'negative'},  {'sentence': 'I love the atmosphere.', 'sentiment': '\"\n",
    "# Prepare input\n",
    "input_ids = tokenizer.encode(input_text, return_tensors='pt')\n",
    "\n",
    "# Forward pass to get outputs\n",
    "with torch.no_grad():\n",
    "    outputs = model(input_ids)\n",
    "\n",
    "# Get the logits for the last token\n",
    "logits = outputs.logits[:, -1, :]\n",
    "\n",
    "valid_logits = logits[0, [mapping_tokens[\"negative\"], mapping_tokens[\"positive\"]]]\n",
    "\n",
    "# Predict most probable using argmax\n",
    "predicted_sentiment = torch.argmax(valid_logits, dim=-1).item()\n",
    "\n",
    "print(f\"Predicted sentiment is: {predicted_sentiment}\")"
   ]
  },
  {
   "cell_type": "code",
   "execution_count": null,
   "metadata": {
    "colab": {
     "base_uri": "https://localhost:8080/"
    },
    "id": "nQTZAPY0cTit",
    "outputId": "0ba6f45d-47b9-488f-b742-6e0187a4afeb"
   },
   "outputs": [],
   "source": [
    "valid_logits"
   ]
  },
  {
   "cell_type": "code",
   "execution_count": null,
   "metadata": {
    "id": "7E_-ld39a8gg"
   },
   "outputs": [],
   "source": [
    "# 4.4 Plot the variation of few-shot performance of In-Context learning for n in [1, 2, 5, 10]"
   ]
  },
  {
   "cell_type": "markdown",
   "metadata": {
    "id": "N_OAjeC4baSm"
   },
   "source": [
    "### Zero-shot"
   ]
  },
  {
   "cell_type": "code",
   "execution_count": null,
   "metadata": {
    "id": "hHDZrTlfbYhW"
   },
   "outputs": [],
   "source": [
    "# 4.5 Make a code that performs the classification in a zero-shot setting\n",
    "# using opt-125m"
   ]
  }
 ],
 "metadata": {
  "colab": {
   "provenance": []
  },
  "kernelspec": {
   "display_name": "Python 3",
   "name": "python3"
  },
  "language_info": {
   "name": "python"
  },
  "widgets": {
   "application/vnd.jupyter.widget-state+json": {
    "0197283a16fe4be4a29523b076ccf107": {
     "model_module": "@jupyter-widgets/controls",
     "model_module_version": "1.5.0",
     "model_name": "HBoxModel",
     "state": {
      "_dom_classes": [],
      "_model_module": "@jupyter-widgets/controls",
      "_model_module_version": "1.5.0",
      "_model_name": "HBoxModel",
      "_view_count": null,
      "_view_module": "@jupyter-widgets/controls",
      "_view_module_version": "1.5.0",
      "_view_name": "HBoxView",
      "box_style": "",
      "children": [
       "IPY_MODEL_953a044c4fe34447995d23e066704aff",
       "IPY_MODEL_05476efb1cc94f0eba0a761f4a4a8e1b",
       "IPY_MODEL_58066a0291104a4b9870375c9cae11a7"
      ],
      "layout": "IPY_MODEL_127bd9702ffe4037b9359cb35f8c951f"
     }
    },
    "05476efb1cc94f0eba0a761f4a4a8e1b": {
     "model_module": "@jupyter-widgets/controls",
     "model_module_version": "1.5.0",
     "model_name": "FloatProgressModel",
     "state": {
      "_dom_classes": [],
      "_model_module": "@jupyter-widgets/controls",
      "_model_module_version": "1.5.0",
      "_model_name": "FloatProgressModel",
      "_view_count": null,
      "_view_module": "@jupyter-widgets/controls",
      "_view_module_version": "1.5.0",
      "_view_name": "ProgressView",
      "bar_style": "success",
      "description": "",
      "description_tooltip": null,
      "layout": "IPY_MODEL_aff05263b0714fbc91451af54aa98b2b",
      "max": 612,
      "min": 0,
      "orientation": "horizontal",
      "style": "IPY_MODEL_22e0655749d441058a2bbd3679272285",
      "value": 612
     }
    },
    "0d4d775600164cf2a7bec39f10191111": {
     "model_module": "@jupyter-widgets/controls",
     "model_module_version": "1.5.0",
     "model_name": "DescriptionStyleModel",
     "state": {
      "_model_module": "@jupyter-widgets/controls",
      "_model_module_version": "1.5.0",
      "_model_name": "DescriptionStyleModel",
      "_view_count": null,
      "_view_module": "@jupyter-widgets/base",
      "_view_module_version": "1.2.0",
      "_view_name": "StyleView",
      "description_width": ""
     }
    },
    "0fd388a99e8d4c76b6d9de5670e83735": {
     "model_module": "@jupyter-widgets/controls",
     "model_module_version": "1.5.0",
     "model_name": "HBoxModel",
     "state": {
      "_dom_classes": [],
      "_model_module": "@jupyter-widgets/controls",
      "_model_module_version": "1.5.0",
      "_model_name": "HBoxModel",
      "_view_count": null,
      "_view_module": "@jupyter-widgets/controls",
      "_view_module_version": "1.5.0",
      "_view_name": "HBoxView",
      "box_style": "",
      "children": [
       "IPY_MODEL_774e479d20ec41189168a252d70a5084",
       "IPY_MODEL_63167ddea88947c985f8a6b7fac7f73a",
       "IPY_MODEL_15aa0ad73b654f94ba9c2e8aa45307ea"
      ],
      "layout": "IPY_MODEL_8396b806df0b41aea9a4ecbeca9db948"
     }
    },
    "121fba95ce4d46dc9d0843fd3cc9657d": {
     "model_module": "@jupyter-widgets/controls",
     "model_module_version": "1.5.0",
     "model_name": "HBoxModel",
     "state": {
      "_dom_classes": [],
      "_model_module": "@jupyter-widgets/controls",
      "_model_module_version": "1.5.0",
      "_model_name": "HBoxModel",
      "_view_count": null,
      "_view_module": "@jupyter-widgets/controls",
      "_view_module_version": "1.5.0",
      "_view_name": "HBoxView",
      "box_style": "",
      "children": [
       "IPY_MODEL_436ac52e40e74154ae2ed3702f0c4b59",
       "IPY_MODEL_8f47577afda74174841cb953451fac47",
       "IPY_MODEL_c033097df598418594421a65a25686d4"
      ],
      "layout": "IPY_MODEL_98e0cc91651c47bba8fa619408df1e98"
     }
    },
    "1233c9e019624ba881c7b070169af206": {
     "model_module": "@jupyter-widgets/controls",
     "model_module_version": "1.5.0",
     "model_name": "HTMLModel",
     "state": {
      "_dom_classes": [],
      "_model_module": "@jupyter-widgets/controls",
      "_model_module_version": "1.5.0",
      "_model_name": "HTMLModel",
      "_view_count": null,
      "_view_module": "@jupyter-widgets/controls",
      "_view_module_version": "1.5.0",
      "_view_name": "HTMLView",
      "description": "",
      "description_tooltip": null,
      "layout": "IPY_MODEL_9951b7eb86ad47b2a31f55780e845140",
      "placeholder": "​",
      "style": "IPY_MODEL_5c447937597649f1acd9b27a09a5af93",
      "value": " 90.9M/90.9M [00:01&lt;00:00, 103MB/s]"
     }
    },
    "127bd9702ffe4037b9359cb35f8c951f": {
     "model_module": "@jupyter-widgets/base",
     "model_module_version": "1.2.0",
     "model_name": "LayoutModel",
     "state": {
      "_model_module": "@jupyter-widgets/base",
      "_model_module_version": "1.2.0",
      "_model_name": "LayoutModel",
      "_view_count": null,
      "_view_module": "@jupyter-widgets/base",
      "_view_module_version": "1.2.0",
      "_view_name": "LayoutView",
      "align_content": null,
      "align_items": null,
      "align_self": null,
      "border": null,
      "bottom": null,
      "display": null,
      "flex": null,
      "flex_flow": null,
      "grid_area": null,
      "grid_auto_columns": null,
      "grid_auto_flow": null,
      "grid_auto_rows": null,
      "grid_column": null,
      "grid_gap": null,
      "grid_row": null,
      "grid_template_areas": null,
      "grid_template_columns": null,
      "grid_template_rows": null,
      "height": null,
      "justify_content": null,
      "justify_items": null,
      "left": null,
      "margin": null,
      "max_height": null,
      "max_width": null,
      "min_height": null,
      "min_width": null,
      "object_fit": null,
      "object_position": null,
      "order": null,
      "overflow": null,
      "overflow_x": null,
      "overflow_y": null,
      "padding": null,
      "right": null,
      "top": null,
      "visibility": null,
      "width": null
     }
    },
    "15aa0ad73b654f94ba9c2e8aa45307ea": {
     "model_module": "@jupyter-widgets/controls",
     "model_module_version": "1.5.0",
     "model_name": "HTMLModel",
     "state": {
      "_dom_classes": [],
      "_model_module": "@jupyter-widgets/controls",
      "_model_module_version": "1.5.0",
      "_model_name": "HTMLModel",
      "_view_count": null,
      "_view_module": "@jupyter-widgets/controls",
      "_view_module_version": "1.5.0",
      "_view_name": "HTMLView",
      "description": "",
      "description_tooltip": null,
      "layout": "IPY_MODEL_85d1af9946ec482793148f2290577976",
      "placeholder": "​",
      "style": "IPY_MODEL_57f92863de6544baae0c52e1b35ded00",
      "value": " 232k/232k [00:00&lt;00:00, 3.39MB/s]"
     }
    },
    "170c5ed2cac6405ca7f36d0a2a50b81d": {
     "model_module": "@jupyter-widgets/controls",
     "model_module_version": "1.5.0",
     "model_name": "DescriptionStyleModel",
     "state": {
      "_model_module": "@jupyter-widgets/controls",
      "_model_module_version": "1.5.0",
      "_model_name": "DescriptionStyleModel",
      "_view_count": null,
      "_view_module": "@jupyter-widgets/base",
      "_view_module_version": "1.2.0",
      "_view_name": "StyleView",
      "description_width": ""
     }
    },
    "22e0655749d441058a2bbd3679272285": {
     "model_module": "@jupyter-widgets/controls",
     "model_module_version": "1.5.0",
     "model_name": "ProgressStyleModel",
     "state": {
      "_model_module": "@jupyter-widgets/controls",
      "_model_module_version": "1.5.0",
      "_model_name": "ProgressStyleModel",
      "_view_count": null,
      "_view_module": "@jupyter-widgets/base",
      "_view_module_version": "1.2.0",
      "_view_name": "StyleView",
      "bar_color": null,
      "description_width": ""
     }
    },
    "23d7a7de5340480a9d1e8783613d1fd1": {
     "model_module": "@jupyter-widgets/base",
     "model_module_version": "1.2.0",
     "model_name": "LayoutModel",
     "state": {
      "_model_module": "@jupyter-widgets/base",
      "_model_module_version": "1.2.0",
      "_model_name": "LayoutModel",
      "_view_count": null,
      "_view_module": "@jupyter-widgets/base",
      "_view_module_version": "1.2.0",
      "_view_name": "LayoutView",
      "align_content": null,
      "align_items": null,
      "align_self": null,
      "border": null,
      "bottom": null,
      "display": null,
      "flex": null,
      "flex_flow": null,
      "grid_area": null,
      "grid_auto_columns": null,
      "grid_auto_flow": null,
      "grid_auto_rows": null,
      "grid_column": null,
      "grid_gap": null,
      "grid_row": null,
      "grid_template_areas": null,
      "grid_template_columns": null,
      "grid_template_rows": null,
      "height": null,
      "justify_content": null,
      "justify_items": null,
      "left": null,
      "margin": null,
      "max_height": null,
      "max_width": null,
      "min_height": null,
      "min_width": null,
      "object_fit": null,
      "object_position": null,
      "order": null,
      "overflow": null,
      "overflow_x": null,
      "overflow_y": null,
      "padding": null,
      "right": null,
      "top": null,
      "visibility": null,
      "width": null
     }
    },
    "252d0f9ea204472da0eeac0b104851fc": {
     "model_module": "@jupyter-widgets/base",
     "model_module_version": "1.2.0",
     "model_name": "LayoutModel",
     "state": {
      "_model_module": "@jupyter-widgets/base",
      "_model_module_version": "1.2.0",
      "_model_name": "LayoutModel",
      "_view_count": null,
      "_view_module": "@jupyter-widgets/base",
      "_view_module_version": "1.2.0",
      "_view_name": "LayoutView",
      "align_content": null,
      "align_items": null,
      "align_self": null,
      "border": null,
      "bottom": null,
      "display": null,
      "flex": null,
      "flex_flow": null,
      "grid_area": null,
      "grid_auto_columns": null,
      "grid_auto_flow": null,
      "grid_auto_rows": null,
      "grid_column": null,
      "grid_gap": null,
      "grid_row": null,
      "grid_template_areas": null,
      "grid_template_columns": null,
      "grid_template_rows": null,
      "height": null,
      "justify_content": null,
      "justify_items": null,
      "left": null,
      "margin": null,
      "max_height": null,
      "max_width": null,
      "min_height": null,
      "min_width": null,
      "object_fit": null,
      "object_position": null,
      "order": null,
      "overflow": null,
      "overflow_x": null,
      "overflow_y": null,
      "padding": null,
      "right": null,
      "top": null,
      "visibility": null,
      "width": null
     }
    },
    "2a51859584a14aa092e4ac809942e3be": {
     "model_module": "@jupyter-widgets/base",
     "model_module_version": "1.2.0",
     "model_name": "LayoutModel",
     "state": {
      "_model_module": "@jupyter-widgets/base",
      "_model_module_version": "1.2.0",
      "_model_name": "LayoutModel",
      "_view_count": null,
      "_view_module": "@jupyter-widgets/base",
      "_view_module_version": "1.2.0",
      "_view_name": "LayoutView",
      "align_content": null,
      "align_items": null,
      "align_self": null,
      "border": null,
      "bottom": null,
      "display": null,
      "flex": null,
      "flex_flow": null,
      "grid_area": null,
      "grid_auto_columns": null,
      "grid_auto_flow": null,
      "grid_auto_rows": null,
      "grid_column": null,
      "grid_gap": null,
      "grid_row": null,
      "grid_template_areas": null,
      "grid_template_columns": null,
      "grid_template_rows": null,
      "height": null,
      "justify_content": null,
      "justify_items": null,
      "left": null,
      "margin": null,
      "max_height": null,
      "max_width": null,
      "min_height": null,
      "min_width": null,
      "object_fit": null,
      "object_position": null,
      "order": null,
      "overflow": null,
      "overflow_x": null,
      "overflow_y": null,
      "padding": null,
      "right": null,
      "top": null,
      "visibility": null,
      "width": null
     }
    },
    "2f9e59224a5546f6965e6ecb970b1165": {
     "model_module": "@jupyter-widgets/controls",
     "model_module_version": "1.5.0",
     "model_name": "ProgressStyleModel",
     "state": {
      "_model_module": "@jupyter-widgets/controls",
      "_model_module_version": "1.5.0",
      "_model_name": "ProgressStyleModel",
      "_view_count": null,
      "_view_module": "@jupyter-widgets/base",
      "_view_module_version": "1.2.0",
      "_view_name": "StyleView",
      "bar_color": null,
      "description_width": ""
     }
    },
    "328f099ccce049c1996b8ddfa4301da5": {
     "model_module": "@jupyter-widgets/base",
     "model_module_version": "1.2.0",
     "model_name": "LayoutModel",
     "state": {
      "_model_module": "@jupyter-widgets/base",
      "_model_module_version": "1.2.0",
      "_model_name": "LayoutModel",
      "_view_count": null,
      "_view_module": "@jupyter-widgets/base",
      "_view_module_version": "1.2.0",
      "_view_name": "LayoutView",
      "align_content": null,
      "align_items": null,
      "align_self": null,
      "border": null,
      "bottom": null,
      "display": null,
      "flex": null,
      "flex_flow": null,
      "grid_area": null,
      "grid_auto_columns": null,
      "grid_auto_flow": null,
      "grid_auto_rows": null,
      "grid_column": null,
      "grid_gap": null,
      "grid_row": null,
      "grid_template_areas": null,
      "grid_template_columns": null,
      "grid_template_rows": null,
      "height": null,
      "justify_content": null,
      "justify_items": null,
      "left": null,
      "margin": null,
      "max_height": null,
      "max_width": null,
      "min_height": null,
      "min_width": null,
      "object_fit": null,
      "object_position": null,
      "order": null,
      "overflow": null,
      "overflow_x": null,
      "overflow_y": null,
      "padding": null,
      "right": null,
      "top": null,
      "visibility": null,
      "width": null
     }
    },
    "38477459149440368be6467ea18e6d37": {
     "model_module": "@jupyter-widgets/base",
     "model_module_version": "1.2.0",
     "model_name": "LayoutModel",
     "state": {
      "_model_module": "@jupyter-widgets/base",
      "_model_module_version": "1.2.0",
      "_model_name": "LayoutModel",
      "_view_count": null,
      "_view_module": "@jupyter-widgets/base",
      "_view_module_version": "1.2.0",
      "_view_name": "LayoutView",
      "align_content": null,
      "align_items": null,
      "align_self": null,
      "border": null,
      "bottom": null,
      "display": null,
      "flex": null,
      "flex_flow": null,
      "grid_area": null,
      "grid_auto_columns": null,
      "grid_auto_flow": null,
      "grid_auto_rows": null,
      "grid_column": null,
      "grid_gap": null,
      "grid_row": null,
      "grid_template_areas": null,
      "grid_template_columns": null,
      "grid_template_rows": null,
      "height": null,
      "justify_content": null,
      "justify_items": null,
      "left": null,
      "margin": null,
      "max_height": null,
      "max_width": null,
      "min_height": null,
      "min_width": null,
      "object_fit": null,
      "object_position": null,
      "order": null,
      "overflow": null,
      "overflow_x": null,
      "overflow_y": null,
      "padding": null,
      "right": null,
      "top": null,
      "visibility": null,
      "width": null
     }
    },
    "3911ec30aa7e409da3bf3ed18cf8dcc7": {
     "model_module": "@jupyter-widgets/controls",
     "model_module_version": "1.5.0",
     "model_name": "HTMLModel",
     "state": {
      "_dom_classes": [],
      "_model_module": "@jupyter-widgets/controls",
      "_model_module_version": "1.5.0",
      "_model_name": "HTMLModel",
      "_view_count": null,
      "_view_module": "@jupyter-widgets/controls",
      "_view_module_version": "1.5.0",
      "_view_name": "HTMLView",
      "description": "",
      "description_tooltip": null,
      "layout": "IPY_MODEL_252d0f9ea204472da0eeac0b104851fc",
      "placeholder": "​",
      "style": "IPY_MODEL_fee576b25cd34185b319eff901ebd80d",
      "value": "special_tokens_map.json: 100%"
     }
    },
    "413612547f3f4d648f99daa1dc435fdc": {
     "model_module": "@jupyter-widgets/base",
     "model_module_version": "1.2.0",
     "model_name": "LayoutModel",
     "state": {
      "_model_module": "@jupyter-widgets/base",
      "_model_module_version": "1.2.0",
      "_model_name": "LayoutModel",
      "_view_count": null,
      "_view_module": "@jupyter-widgets/base",
      "_view_module_version": "1.2.0",
      "_view_name": "LayoutView",
      "align_content": null,
      "align_items": null,
      "align_self": null,
      "border": null,
      "bottom": null,
      "display": null,
      "flex": null,
      "flex_flow": null,
      "grid_area": null,
      "grid_auto_columns": null,
      "grid_auto_flow": null,
      "grid_auto_rows": null,
      "grid_column": null,
      "grid_gap": null,
      "grid_row": null,
      "grid_template_areas": null,
      "grid_template_columns": null,
      "grid_template_rows": null,
      "height": null,
      "justify_content": null,
      "justify_items": null,
      "left": null,
      "margin": null,
      "max_height": null,
      "max_width": null,
      "min_height": null,
      "min_width": null,
      "object_fit": null,
      "object_position": null,
      "order": null,
      "overflow": null,
      "overflow_x": null,
      "overflow_y": null,
      "padding": null,
      "right": null,
      "top": null,
      "visibility": null,
      "width": null
     }
    },
    "417f6e06829045cf9fa4ebaccacfc694": {
     "model_module": "@jupyter-widgets/controls",
     "model_module_version": "1.5.0",
     "model_name": "FloatProgressModel",
     "state": {
      "_dom_classes": [],
      "_model_module": "@jupyter-widgets/controls",
      "_model_module_version": "1.5.0",
      "_model_name": "FloatProgressModel",
      "_view_count": null,
      "_view_module": "@jupyter-widgets/controls",
      "_view_module_version": "1.5.0",
      "_view_name": "ProgressView",
      "bar_style": "success",
      "description": "",
      "description_tooltip": null,
      "layout": "IPY_MODEL_413612547f3f4d648f99daa1dc435fdc",
      "max": 350,
      "min": 0,
      "orientation": "horizontal",
      "style": "IPY_MODEL_5f92867a6cf8415db85146184883ae2c",
      "value": 350
     }
    },
    "436ac52e40e74154ae2ed3702f0c4b59": {
     "model_module": "@jupyter-widgets/controls",
     "model_module_version": "1.5.0",
     "model_name": "HTMLModel",
     "state": {
      "_dom_classes": [],
      "_model_module": "@jupyter-widgets/controls",
      "_model_module_version": "1.5.0",
      "_model_name": "HTMLModel",
      "_view_count": null,
      "_view_module": "@jupyter-widgets/controls",
      "_view_module_version": "1.5.0",
      "_view_name": "HTMLView",
      "description": "",
      "description_tooltip": null,
      "layout": "IPY_MODEL_6f6d18d22c494dab8d2bc1eb9a770d77",
      "placeholder": "​",
      "style": "IPY_MODEL_a94b1b28b079424784714bd841b4a4c1",
      "value": "tokenizer.json: 100%"
     }
    },
    "4588e5d860fe4607b813c5acac98162f": {
     "model_module": "@jupyter-widgets/controls",
     "model_module_version": "1.5.0",
     "model_name": "HBoxModel",
     "state": {
      "_dom_classes": [],
      "_model_module": "@jupyter-widgets/controls",
      "_model_module_version": "1.5.0",
      "_model_name": "HBoxModel",
      "_view_count": null,
      "_view_module": "@jupyter-widgets/controls",
      "_view_module_version": "1.5.0",
      "_view_name": "HBoxView",
      "box_style": "",
      "children": [
       "IPY_MODEL_ab0db4db90a6407b86bd97e0a3ecf2ed",
       "IPY_MODEL_417f6e06829045cf9fa4ebaccacfc694",
       "IPY_MODEL_eab26f705d67479da282e01f1c0afaaa"
      ],
      "layout": "IPY_MODEL_d7a97d8e190840d39c2588c9e52e1998"
     }
    },
    "4d3bebc2b2fa4a08861fefa15b00a348": {
     "model_module": "@jupyter-widgets/controls",
     "model_module_version": "1.5.0",
     "model_name": "FloatProgressModel",
     "state": {
      "_dom_classes": [],
      "_model_module": "@jupyter-widgets/controls",
      "_model_module_version": "1.5.0",
      "_model_name": "FloatProgressModel",
      "_view_count": null,
      "_view_module": "@jupyter-widgets/controls",
      "_view_module_version": "1.5.0",
      "_view_name": "ProgressView",
      "bar_style": "success",
      "description": "",
      "description_tooltip": null,
      "layout": "IPY_MODEL_dcf0b733e03a40bab18e44abefd174a6",
      "max": 112,
      "min": 0,
      "orientation": "horizontal",
      "style": "IPY_MODEL_b3418b0707eb4c43b86abe53e6ce10c5",
      "value": 112
     }
    },
    "4fec87de630b42a2998106b78a02e0ec": {
     "model_module": "@jupyter-widgets/controls",
     "model_module_version": "1.5.0",
     "model_name": "HTMLModel",
     "state": {
      "_dom_classes": [],
      "_model_module": "@jupyter-widgets/controls",
      "_model_module_version": "1.5.0",
      "_model_name": "HTMLModel",
      "_view_count": null,
      "_view_module": "@jupyter-widgets/controls",
      "_view_module_version": "1.5.0",
      "_view_name": "HTMLView",
      "description": "",
      "description_tooltip": null,
      "layout": "IPY_MODEL_23d7a7de5340480a9d1e8783613d1fd1",
      "placeholder": "​",
      "style": "IPY_MODEL_9b4d1a98bef2433497fb153e11475afc",
      "value": "model.safetensors: 100%"
     }
    },
    "57f92863de6544baae0c52e1b35ded00": {
     "model_module": "@jupyter-widgets/controls",
     "model_module_version": "1.5.0",
     "model_name": "DescriptionStyleModel",
     "state": {
      "_model_module": "@jupyter-widgets/controls",
      "_model_module_version": "1.5.0",
      "_model_name": "DescriptionStyleModel",
      "_view_count": null,
      "_view_module": "@jupyter-widgets/base",
      "_view_module_version": "1.2.0",
      "_view_name": "StyleView",
      "description_width": ""
     }
    },
    "58066a0291104a4b9870375c9cae11a7": {
     "model_module": "@jupyter-widgets/controls",
     "model_module_version": "1.5.0",
     "model_name": "HTMLModel",
     "state": {
      "_dom_classes": [],
      "_model_module": "@jupyter-widgets/controls",
      "_model_module_version": "1.5.0",
      "_model_name": "HTMLModel",
      "_view_count": null,
      "_view_module": "@jupyter-widgets/controls",
      "_view_module_version": "1.5.0",
      "_view_name": "HTMLView",
      "description": "",
      "description_tooltip": null,
      "layout": "IPY_MODEL_cbbe91b1664643ea9ca68f296decc460",
      "placeholder": "​",
      "style": "IPY_MODEL_0d4d775600164cf2a7bec39f10191111",
      "value": " 612/612 [00:00&lt;00:00, 23.4kB/s]"
     }
    },
    "5c447937597649f1acd9b27a09a5af93": {
     "model_module": "@jupyter-widgets/controls",
     "model_module_version": "1.5.0",
     "model_name": "DescriptionStyleModel",
     "state": {
      "_model_module": "@jupyter-widgets/controls",
      "_model_module_version": "1.5.0",
      "_model_name": "DescriptionStyleModel",
      "_view_count": null,
      "_view_module": "@jupyter-widgets/base",
      "_view_module_version": "1.2.0",
      "_view_name": "StyleView",
      "description_width": ""
     }
    },
    "5f92867a6cf8415db85146184883ae2c": {
     "model_module": "@jupyter-widgets/controls",
     "model_module_version": "1.5.0",
     "model_name": "ProgressStyleModel",
     "state": {
      "_model_module": "@jupyter-widgets/controls",
      "_model_module_version": "1.5.0",
      "_model_name": "ProgressStyleModel",
      "_view_count": null,
      "_view_module": "@jupyter-widgets/base",
      "_view_module_version": "1.2.0",
      "_view_name": "StyleView",
      "bar_color": null,
      "description_width": ""
     }
    },
    "63167ddea88947c985f8a6b7fac7f73a": {
     "model_module": "@jupyter-widgets/controls",
     "model_module_version": "1.5.0",
     "model_name": "FloatProgressModel",
     "state": {
      "_dom_classes": [],
      "_model_module": "@jupyter-widgets/controls",
      "_model_module_version": "1.5.0",
      "_model_name": "FloatProgressModel",
      "_view_count": null,
      "_view_module": "@jupyter-widgets/controls",
      "_view_module_version": "1.5.0",
      "_view_name": "ProgressView",
      "bar_style": "success",
      "description": "",
      "description_tooltip": null,
      "layout": "IPY_MODEL_8016ae8c4306441ab6fd9cd600ddd425",
      "max": 231508,
      "min": 0,
      "orientation": "horizontal",
      "style": "IPY_MODEL_d61bcb30019a4090a294749e5307839a",
      "value": 231508
     }
    },
    "63ffa47a523d4195ac68e0fe2ca850aa": {
     "model_module": "@jupyter-widgets/base",
     "model_module_version": "1.2.0",
     "model_name": "LayoutModel",
     "state": {
      "_model_module": "@jupyter-widgets/base",
      "_model_module_version": "1.2.0",
      "_model_name": "LayoutModel",
      "_view_count": null,
      "_view_module": "@jupyter-widgets/base",
      "_view_module_version": "1.2.0",
      "_view_name": "LayoutView",
      "align_content": null,
      "align_items": null,
      "align_self": null,
      "border": null,
      "bottom": null,
      "display": null,
      "flex": null,
      "flex_flow": null,
      "grid_area": null,
      "grid_auto_columns": null,
      "grid_auto_flow": null,
      "grid_auto_rows": null,
      "grid_column": null,
      "grid_gap": null,
      "grid_row": null,
      "grid_template_areas": null,
      "grid_template_columns": null,
      "grid_template_rows": null,
      "height": null,
      "justify_content": null,
      "justify_items": null,
      "left": null,
      "margin": null,
      "max_height": null,
      "max_width": null,
      "min_height": null,
      "min_width": null,
      "object_fit": null,
      "object_position": null,
      "order": null,
      "overflow": null,
      "overflow_x": null,
      "overflow_y": null,
      "padding": null,
      "right": null,
      "top": null,
      "visibility": null,
      "width": null
     }
    },
    "6f6d18d22c494dab8d2bc1eb9a770d77": {
     "model_module": "@jupyter-widgets/base",
     "model_module_version": "1.2.0",
     "model_name": "LayoutModel",
     "state": {
      "_model_module": "@jupyter-widgets/base",
      "_model_module_version": "1.2.0",
      "_model_name": "LayoutModel",
      "_view_count": null,
      "_view_module": "@jupyter-widgets/base",
      "_view_module_version": "1.2.0",
      "_view_name": "LayoutView",
      "align_content": null,
      "align_items": null,
      "align_self": null,
      "border": null,
      "bottom": null,
      "display": null,
      "flex": null,
      "flex_flow": null,
      "grid_area": null,
      "grid_auto_columns": null,
      "grid_auto_flow": null,
      "grid_auto_rows": null,
      "grid_column": null,
      "grid_gap": null,
      "grid_row": null,
      "grid_template_areas": null,
      "grid_template_columns": null,
      "grid_template_rows": null,
      "height": null,
      "justify_content": null,
      "justify_items": null,
      "left": null,
      "margin": null,
      "max_height": null,
      "max_width": null,
      "min_height": null,
      "min_width": null,
      "object_fit": null,
      "object_position": null,
      "order": null,
      "overflow": null,
      "overflow_x": null,
      "overflow_y": null,
      "padding": null,
      "right": null,
      "top": null,
      "visibility": null,
      "width": null
     }
    },
    "7059b0dcec7f412699c6496e7c8b9e67": {
     "model_module": "@jupyter-widgets/controls",
     "model_module_version": "1.5.0",
     "model_name": "DescriptionStyleModel",
     "state": {
      "_model_module": "@jupyter-widgets/controls",
      "_model_module_version": "1.5.0",
      "_model_name": "DescriptionStyleModel",
      "_view_count": null,
      "_view_module": "@jupyter-widgets/base",
      "_view_module_version": "1.2.0",
      "_view_name": "StyleView",
      "description_width": ""
     }
    },
    "774e479d20ec41189168a252d70a5084": {
     "model_module": "@jupyter-widgets/controls",
     "model_module_version": "1.5.0",
     "model_name": "HTMLModel",
     "state": {
      "_dom_classes": [],
      "_model_module": "@jupyter-widgets/controls",
      "_model_module_version": "1.5.0",
      "_model_name": "HTMLModel",
      "_view_count": null,
      "_view_module": "@jupyter-widgets/controls",
      "_view_module_version": "1.5.0",
      "_view_name": "HTMLView",
      "description": "",
      "description_tooltip": null,
      "layout": "IPY_MODEL_2a51859584a14aa092e4ac809942e3be",
      "placeholder": "​",
      "style": "IPY_MODEL_c60e82a35470492d9bfcf3597f5bc74f",
      "value": "vocab.txt: 100%"
     }
    },
    "78fe6c2dd5354ea6bd3e664bdda061ca": {
     "model_module": "@jupyter-widgets/controls",
     "model_module_version": "1.5.0",
     "model_name": "DescriptionStyleModel",
     "state": {
      "_model_module": "@jupyter-widgets/controls",
      "_model_module_version": "1.5.0",
      "_model_name": "DescriptionStyleModel",
      "_view_count": null,
      "_view_module": "@jupyter-widgets/base",
      "_view_module_version": "1.2.0",
      "_view_name": "StyleView",
      "description_width": ""
     }
    },
    "8016ae8c4306441ab6fd9cd600ddd425": {
     "model_module": "@jupyter-widgets/base",
     "model_module_version": "1.2.0",
     "model_name": "LayoutModel",
     "state": {
      "_model_module": "@jupyter-widgets/base",
      "_model_module_version": "1.2.0",
      "_model_name": "LayoutModel",
      "_view_count": null,
      "_view_module": "@jupyter-widgets/base",
      "_view_module_version": "1.2.0",
      "_view_name": "LayoutView",
      "align_content": null,
      "align_items": null,
      "align_self": null,
      "border": null,
      "bottom": null,
      "display": null,
      "flex": null,
      "flex_flow": null,
      "grid_area": null,
      "grid_auto_columns": null,
      "grid_auto_flow": null,
      "grid_auto_rows": null,
      "grid_column": null,
      "grid_gap": null,
      "grid_row": null,
      "grid_template_areas": null,
      "grid_template_columns": null,
      "grid_template_rows": null,
      "height": null,
      "justify_content": null,
      "justify_items": null,
      "left": null,
      "margin": null,
      "max_height": null,
      "max_width": null,
      "min_height": null,
      "min_width": null,
      "object_fit": null,
      "object_position": null,
      "order": null,
      "overflow": null,
      "overflow_x": null,
      "overflow_y": null,
      "padding": null,
      "right": null,
      "top": null,
      "visibility": null,
      "width": null
     }
    },
    "8396b806df0b41aea9a4ecbeca9db948": {
     "model_module": "@jupyter-widgets/base",
     "model_module_version": "1.2.0",
     "model_name": "LayoutModel",
     "state": {
      "_model_module": "@jupyter-widgets/base",
      "_model_module_version": "1.2.0",
      "_model_name": "LayoutModel",
      "_view_count": null,
      "_view_module": "@jupyter-widgets/base",
      "_view_module_version": "1.2.0",
      "_view_name": "LayoutView",
      "align_content": null,
      "align_items": null,
      "align_self": null,
      "border": null,
      "bottom": null,
      "display": null,
      "flex": null,
      "flex_flow": null,
      "grid_area": null,
      "grid_auto_columns": null,
      "grid_auto_flow": null,
      "grid_auto_rows": null,
      "grid_column": null,
      "grid_gap": null,
      "grid_row": null,
      "grid_template_areas": null,
      "grid_template_columns": null,
      "grid_template_rows": null,
      "height": null,
      "justify_content": null,
      "justify_items": null,
      "left": null,
      "margin": null,
      "max_height": null,
      "max_width": null,
      "min_height": null,
      "min_width": null,
      "object_fit": null,
      "object_position": null,
      "order": null,
      "overflow": null,
      "overflow_x": null,
      "overflow_y": null,
      "padding": null,
      "right": null,
      "top": null,
      "visibility": null,
      "width": null
     }
    },
    "85d1af9946ec482793148f2290577976": {
     "model_module": "@jupyter-widgets/base",
     "model_module_version": "1.2.0",
     "model_name": "LayoutModel",
     "state": {
      "_model_module": "@jupyter-widgets/base",
      "_model_module_version": "1.2.0",
      "_model_name": "LayoutModel",
      "_view_count": null,
      "_view_module": "@jupyter-widgets/base",
      "_view_module_version": "1.2.0",
      "_view_name": "LayoutView",
      "align_content": null,
      "align_items": null,
      "align_self": null,
      "border": null,
      "bottom": null,
      "display": null,
      "flex": null,
      "flex_flow": null,
      "grid_area": null,
      "grid_auto_columns": null,
      "grid_auto_flow": null,
      "grid_auto_rows": null,
      "grid_column": null,
      "grid_gap": null,
      "grid_row": null,
      "grid_template_areas": null,
      "grid_template_columns": null,
      "grid_template_rows": null,
      "height": null,
      "justify_content": null,
      "justify_items": null,
      "left": null,
      "margin": null,
      "max_height": null,
      "max_width": null,
      "min_height": null,
      "min_width": null,
      "object_fit": null,
      "object_position": null,
      "order": null,
      "overflow": null,
      "overflow_x": null,
      "overflow_y": null,
      "padding": null,
      "right": null,
      "top": null,
      "visibility": null,
      "width": null
     }
    },
    "8a415b12498f41b5bad62806e8de0106": {
     "model_module": "@jupyter-widgets/controls",
     "model_module_version": "1.5.0",
     "model_name": "HBoxModel",
     "state": {
      "_dom_classes": [],
      "_model_module": "@jupyter-widgets/controls",
      "_model_module_version": "1.5.0",
      "_model_name": "HBoxModel",
      "_view_count": null,
      "_view_module": "@jupyter-widgets/controls",
      "_view_module_version": "1.5.0",
      "_view_name": "HBoxView",
      "box_style": "",
      "children": [
       "IPY_MODEL_4fec87de630b42a2998106b78a02e0ec",
       "IPY_MODEL_dc8efa26d86a4fc79ea8a273d2bac0c8",
       "IPY_MODEL_1233c9e019624ba881c7b070169af206"
      ],
      "layout": "IPY_MODEL_f9e9f9a87b4d4a95aa59428edc69f694"
     }
    },
    "8f47577afda74174841cb953451fac47": {
     "model_module": "@jupyter-widgets/controls",
     "model_module_version": "1.5.0",
     "model_name": "FloatProgressModel",
     "state": {
      "_dom_classes": [],
      "_model_module": "@jupyter-widgets/controls",
      "_model_module_version": "1.5.0",
      "_model_name": "FloatProgressModel",
      "_view_count": null,
      "_view_module": "@jupyter-widgets/controls",
      "_view_module_version": "1.5.0",
      "_view_name": "ProgressView",
      "bar_style": "success",
      "description": "",
      "description_tooltip": null,
      "layout": "IPY_MODEL_328f099ccce049c1996b8ddfa4301da5",
      "max": 466247,
      "min": 0,
      "orientation": "horizontal",
      "style": "IPY_MODEL_9fa1f9c604024f38beea675ab8591d53",
      "value": 466247
     }
    },
    "951ea2166d55435a937044bf68f85743": {
     "model_module": "@jupyter-widgets/base",
     "model_module_version": "1.2.0",
     "model_name": "LayoutModel",
     "state": {
      "_model_module": "@jupyter-widgets/base",
      "_model_module_version": "1.2.0",
      "_model_name": "LayoutModel",
      "_view_count": null,
      "_view_module": "@jupyter-widgets/base",
      "_view_module_version": "1.2.0",
      "_view_name": "LayoutView",
      "align_content": null,
      "align_items": null,
      "align_self": null,
      "border": null,
      "bottom": null,
      "display": null,
      "flex": null,
      "flex_flow": null,
      "grid_area": null,
      "grid_auto_columns": null,
      "grid_auto_flow": null,
      "grid_auto_rows": null,
      "grid_column": null,
      "grid_gap": null,
      "grid_row": null,
      "grid_template_areas": null,
      "grid_template_columns": null,
      "grid_template_rows": null,
      "height": null,
      "justify_content": null,
      "justify_items": null,
      "left": null,
      "margin": null,
      "max_height": null,
      "max_width": null,
      "min_height": null,
      "min_width": null,
      "object_fit": null,
      "object_position": null,
      "order": null,
      "overflow": null,
      "overflow_x": null,
      "overflow_y": null,
      "padding": null,
      "right": null,
      "top": null,
      "visibility": null,
      "width": null
     }
    },
    "9528c56823454c43826fca24304c4271": {
     "model_module": "@jupyter-widgets/base",
     "model_module_version": "1.2.0",
     "model_name": "LayoutModel",
     "state": {
      "_model_module": "@jupyter-widgets/base",
      "_model_module_version": "1.2.0",
      "_model_name": "LayoutModel",
      "_view_count": null,
      "_view_module": "@jupyter-widgets/base",
      "_view_module_version": "1.2.0",
      "_view_name": "LayoutView",
      "align_content": null,
      "align_items": null,
      "align_self": null,
      "border": null,
      "bottom": null,
      "display": null,
      "flex": null,
      "flex_flow": null,
      "grid_area": null,
      "grid_auto_columns": null,
      "grid_auto_flow": null,
      "grid_auto_rows": null,
      "grid_column": null,
      "grid_gap": null,
      "grid_row": null,
      "grid_template_areas": null,
      "grid_template_columns": null,
      "grid_template_rows": null,
      "height": null,
      "justify_content": null,
      "justify_items": null,
      "left": null,
      "margin": null,
      "max_height": null,
      "max_width": null,
      "min_height": null,
      "min_width": null,
      "object_fit": null,
      "object_position": null,
      "order": null,
      "overflow": null,
      "overflow_x": null,
      "overflow_y": null,
      "padding": null,
      "right": null,
      "top": null,
      "visibility": null,
      "width": null
     }
    },
    "953a044c4fe34447995d23e066704aff": {
     "model_module": "@jupyter-widgets/controls",
     "model_module_version": "1.5.0",
     "model_name": "HTMLModel",
     "state": {
      "_dom_classes": [],
      "_model_module": "@jupyter-widgets/controls",
      "_model_module_version": "1.5.0",
      "_model_name": "HTMLModel",
      "_view_count": null,
      "_view_module": "@jupyter-widgets/controls",
      "_view_module_version": "1.5.0",
      "_view_name": "HTMLView",
      "description": "",
      "description_tooltip": null,
      "layout": "IPY_MODEL_decd835bab024eb49f4dcd70b2d331d4",
      "placeholder": "​",
      "style": "IPY_MODEL_c659850a5dd449af8b2ed31c5d954723",
      "value": "config.json: 100%"
     }
    },
    "98e0cc91651c47bba8fa619408df1e98": {
     "model_module": "@jupyter-widgets/base",
     "model_module_version": "1.2.0",
     "model_name": "LayoutModel",
     "state": {
      "_model_module": "@jupyter-widgets/base",
      "_model_module_version": "1.2.0",
      "_model_name": "LayoutModel",
      "_view_count": null,
      "_view_module": "@jupyter-widgets/base",
      "_view_module_version": "1.2.0",
      "_view_name": "LayoutView",
      "align_content": null,
      "align_items": null,
      "align_self": null,
      "border": null,
      "bottom": null,
      "display": null,
      "flex": null,
      "flex_flow": null,
      "grid_area": null,
      "grid_auto_columns": null,
      "grid_auto_flow": null,
      "grid_auto_rows": null,
      "grid_column": null,
      "grid_gap": null,
      "grid_row": null,
      "grid_template_areas": null,
      "grid_template_columns": null,
      "grid_template_rows": null,
      "height": null,
      "justify_content": null,
      "justify_items": null,
      "left": null,
      "margin": null,
      "max_height": null,
      "max_width": null,
      "min_height": null,
      "min_width": null,
      "object_fit": null,
      "object_position": null,
      "order": null,
      "overflow": null,
      "overflow_x": null,
      "overflow_y": null,
      "padding": null,
      "right": null,
      "top": null,
      "visibility": null,
      "width": null
     }
    },
    "9951b7eb86ad47b2a31f55780e845140": {
     "model_module": "@jupyter-widgets/base",
     "model_module_version": "1.2.0",
     "model_name": "LayoutModel",
     "state": {
      "_model_module": "@jupyter-widgets/base",
      "_model_module_version": "1.2.0",
      "_model_name": "LayoutModel",
      "_view_count": null,
      "_view_module": "@jupyter-widgets/base",
      "_view_module_version": "1.2.0",
      "_view_name": "LayoutView",
      "align_content": null,
      "align_items": null,
      "align_self": null,
      "border": null,
      "bottom": null,
      "display": null,
      "flex": null,
      "flex_flow": null,
      "grid_area": null,
      "grid_auto_columns": null,
      "grid_auto_flow": null,
      "grid_auto_rows": null,
      "grid_column": null,
      "grid_gap": null,
      "grid_row": null,
      "grid_template_areas": null,
      "grid_template_columns": null,
      "grid_template_rows": null,
      "height": null,
      "justify_content": null,
      "justify_items": null,
      "left": null,
      "margin": null,
      "max_height": null,
      "max_width": null,
      "min_height": null,
      "min_width": null,
      "object_fit": null,
      "object_position": null,
      "order": null,
      "overflow": null,
      "overflow_x": null,
      "overflow_y": null,
      "padding": null,
      "right": null,
      "top": null,
      "visibility": null,
      "width": null
     }
    },
    "9b4d1a98bef2433497fb153e11475afc": {
     "model_module": "@jupyter-widgets/controls",
     "model_module_version": "1.5.0",
     "model_name": "DescriptionStyleModel",
     "state": {
      "_model_module": "@jupyter-widgets/controls",
      "_model_module_version": "1.5.0",
      "_model_name": "DescriptionStyleModel",
      "_view_count": null,
      "_view_module": "@jupyter-widgets/base",
      "_view_module_version": "1.2.0",
      "_view_name": "StyleView",
      "description_width": ""
     }
    },
    "9fa1f9c604024f38beea675ab8591d53": {
     "model_module": "@jupyter-widgets/controls",
     "model_module_version": "1.5.0",
     "model_name": "ProgressStyleModel",
     "state": {
      "_model_module": "@jupyter-widgets/controls",
      "_model_module_version": "1.5.0",
      "_model_name": "ProgressStyleModel",
      "_view_count": null,
      "_view_module": "@jupyter-widgets/base",
      "_view_module_version": "1.2.0",
      "_view_name": "StyleView",
      "bar_color": null,
      "description_width": ""
     }
    },
    "a43f5046d9a8499ca806f6e2acdb246b": {
     "model_module": "@jupyter-widgets/base",
     "model_module_version": "1.2.0",
     "model_name": "LayoutModel",
     "state": {
      "_model_module": "@jupyter-widgets/base",
      "_model_module_version": "1.2.0",
      "_model_name": "LayoutModel",
      "_view_count": null,
      "_view_module": "@jupyter-widgets/base",
      "_view_module_version": "1.2.0",
      "_view_name": "LayoutView",
      "align_content": null,
      "align_items": null,
      "align_self": null,
      "border": null,
      "bottom": null,
      "display": null,
      "flex": null,
      "flex_flow": null,
      "grid_area": null,
      "grid_auto_columns": null,
      "grid_auto_flow": null,
      "grid_auto_rows": null,
      "grid_column": null,
      "grid_gap": null,
      "grid_row": null,
      "grid_template_areas": null,
      "grid_template_columns": null,
      "grid_template_rows": null,
      "height": null,
      "justify_content": null,
      "justify_items": null,
      "left": null,
      "margin": null,
      "max_height": null,
      "max_width": null,
      "min_height": null,
      "min_width": null,
      "object_fit": null,
      "object_position": null,
      "order": null,
      "overflow": null,
      "overflow_x": null,
      "overflow_y": null,
      "padding": null,
      "right": null,
      "top": null,
      "visibility": null,
      "width": null
     }
    },
    "a8f04c5ba30240d09cd9120b6ba29703": {
     "model_module": "@jupyter-widgets/base",
     "model_module_version": "1.2.0",
     "model_name": "LayoutModel",
     "state": {
      "_model_module": "@jupyter-widgets/base",
      "_model_module_version": "1.2.0",
      "_model_name": "LayoutModel",
      "_view_count": null,
      "_view_module": "@jupyter-widgets/base",
      "_view_module_version": "1.2.0",
      "_view_name": "LayoutView",
      "align_content": null,
      "align_items": null,
      "align_self": null,
      "border": null,
      "bottom": null,
      "display": null,
      "flex": null,
      "flex_flow": null,
      "grid_area": null,
      "grid_auto_columns": null,
      "grid_auto_flow": null,
      "grid_auto_rows": null,
      "grid_column": null,
      "grid_gap": null,
      "grid_row": null,
      "grid_template_areas": null,
      "grid_template_columns": null,
      "grid_template_rows": null,
      "height": null,
      "justify_content": null,
      "justify_items": null,
      "left": null,
      "margin": null,
      "max_height": null,
      "max_width": null,
      "min_height": null,
      "min_width": null,
      "object_fit": null,
      "object_position": null,
      "order": null,
      "overflow": null,
      "overflow_x": null,
      "overflow_y": null,
      "padding": null,
      "right": null,
      "top": null,
      "visibility": null,
      "width": null
     }
    },
    "a94b1b28b079424784714bd841b4a4c1": {
     "model_module": "@jupyter-widgets/controls",
     "model_module_version": "1.5.0",
     "model_name": "DescriptionStyleModel",
     "state": {
      "_model_module": "@jupyter-widgets/controls",
      "_model_module_version": "1.5.0",
      "_model_name": "DescriptionStyleModel",
      "_view_count": null,
      "_view_module": "@jupyter-widgets/base",
      "_view_module_version": "1.2.0",
      "_view_name": "StyleView",
      "description_width": ""
     }
    },
    "aa2f229fdf3c47d3af73f99a67677118": {
     "model_module": "@jupyter-widgets/controls",
     "model_module_version": "1.5.0",
     "model_name": "HBoxModel",
     "state": {
      "_dom_classes": [],
      "_model_module": "@jupyter-widgets/controls",
      "_model_module_version": "1.5.0",
      "_model_name": "HBoxModel",
      "_view_count": null,
      "_view_module": "@jupyter-widgets/controls",
      "_view_module_version": "1.5.0",
      "_view_name": "HBoxView",
      "box_style": "",
      "children": [
       "IPY_MODEL_3911ec30aa7e409da3bf3ed18cf8dcc7",
       "IPY_MODEL_4d3bebc2b2fa4a08861fefa15b00a348",
       "IPY_MODEL_d567203882cf4c5885f972b86b3cb4af"
      ],
      "layout": "IPY_MODEL_a8f04c5ba30240d09cd9120b6ba29703"
     }
    },
    "ab0db4db90a6407b86bd97e0a3ecf2ed": {
     "model_module": "@jupyter-widgets/controls",
     "model_module_version": "1.5.0",
     "model_name": "HTMLModel",
     "state": {
      "_dom_classes": [],
      "_model_module": "@jupyter-widgets/controls",
      "_model_module_version": "1.5.0",
      "_model_name": "HTMLModel",
      "_view_count": null,
      "_view_module": "@jupyter-widgets/controls",
      "_view_module_version": "1.5.0",
      "_view_name": "HTMLView",
      "description": "",
      "description_tooltip": null,
      "layout": "IPY_MODEL_63ffa47a523d4195ac68e0fe2ca850aa",
      "placeholder": "​",
      "style": "IPY_MODEL_78fe6c2dd5354ea6bd3e664bdda061ca",
      "value": "tokenizer_config.json: 100%"
     }
    },
    "aff05263b0714fbc91451af54aa98b2b": {
     "model_module": "@jupyter-widgets/base",
     "model_module_version": "1.2.0",
     "model_name": "LayoutModel",
     "state": {
      "_model_module": "@jupyter-widgets/base",
      "_model_module_version": "1.2.0",
      "_model_name": "LayoutModel",
      "_view_count": null,
      "_view_module": "@jupyter-widgets/base",
      "_view_module_version": "1.2.0",
      "_view_name": "LayoutView",
      "align_content": null,
      "align_items": null,
      "align_self": null,
      "border": null,
      "bottom": null,
      "display": null,
      "flex": null,
      "flex_flow": null,
      "grid_area": null,
      "grid_auto_columns": null,
      "grid_auto_flow": null,
      "grid_auto_rows": null,
      "grid_column": null,
      "grid_gap": null,
      "grid_row": null,
      "grid_template_areas": null,
      "grid_template_columns": null,
      "grid_template_rows": null,
      "height": null,
      "justify_content": null,
      "justify_items": null,
      "left": null,
      "margin": null,
      "max_height": null,
      "max_width": null,
      "min_height": null,
      "min_width": null,
      "object_fit": null,
      "object_position": null,
      "order": null,
      "overflow": null,
      "overflow_x": null,
      "overflow_y": null,
      "padding": null,
      "right": null,
      "top": null,
      "visibility": null,
      "width": null
     }
    },
    "b3418b0707eb4c43b86abe53e6ce10c5": {
     "model_module": "@jupyter-widgets/controls",
     "model_module_version": "1.5.0",
     "model_name": "ProgressStyleModel",
     "state": {
      "_model_module": "@jupyter-widgets/controls",
      "_model_module_version": "1.5.0",
      "_model_name": "ProgressStyleModel",
      "_view_count": null,
      "_view_module": "@jupyter-widgets/base",
      "_view_module_version": "1.2.0",
      "_view_name": "StyleView",
      "bar_color": null,
      "description_width": ""
     }
    },
    "c033097df598418594421a65a25686d4": {
     "model_module": "@jupyter-widgets/controls",
     "model_module_version": "1.5.0",
     "model_name": "HTMLModel",
     "state": {
      "_dom_classes": [],
      "_model_module": "@jupyter-widgets/controls",
      "_model_module_version": "1.5.0",
      "_model_name": "HTMLModel",
      "_view_count": null,
      "_view_module": "@jupyter-widgets/controls",
      "_view_module_version": "1.5.0",
      "_view_name": "HTMLView",
      "description": "",
      "description_tooltip": null,
      "layout": "IPY_MODEL_a43f5046d9a8499ca806f6e2acdb246b",
      "placeholder": "​",
      "style": "IPY_MODEL_170c5ed2cac6405ca7f36d0a2a50b81d",
      "value": " 466k/466k [00:00&lt;00:00, 5.10MB/s]"
     }
    },
    "c60e82a35470492d9bfcf3597f5bc74f": {
     "model_module": "@jupyter-widgets/controls",
     "model_module_version": "1.5.0",
     "model_name": "DescriptionStyleModel",
     "state": {
      "_model_module": "@jupyter-widgets/controls",
      "_model_module_version": "1.5.0",
      "_model_name": "DescriptionStyleModel",
      "_view_count": null,
      "_view_module": "@jupyter-widgets/base",
      "_view_module_version": "1.2.0",
      "_view_name": "StyleView",
      "description_width": ""
     }
    },
    "c659850a5dd449af8b2ed31c5d954723": {
     "model_module": "@jupyter-widgets/controls",
     "model_module_version": "1.5.0",
     "model_name": "DescriptionStyleModel",
     "state": {
      "_model_module": "@jupyter-widgets/controls",
      "_model_module_version": "1.5.0",
      "_model_name": "DescriptionStyleModel",
      "_view_count": null,
      "_view_module": "@jupyter-widgets/base",
      "_view_module_version": "1.2.0",
      "_view_name": "StyleView",
      "description_width": ""
     }
    },
    "cbbe91b1664643ea9ca68f296decc460": {
     "model_module": "@jupyter-widgets/base",
     "model_module_version": "1.2.0",
     "model_name": "LayoutModel",
     "state": {
      "_model_module": "@jupyter-widgets/base",
      "_model_module_version": "1.2.0",
      "_model_name": "LayoutModel",
      "_view_count": null,
      "_view_module": "@jupyter-widgets/base",
      "_view_module_version": "1.2.0",
      "_view_name": "LayoutView",
      "align_content": null,
      "align_items": null,
      "align_self": null,
      "border": null,
      "bottom": null,
      "display": null,
      "flex": null,
      "flex_flow": null,
      "grid_area": null,
      "grid_auto_columns": null,
      "grid_auto_flow": null,
      "grid_auto_rows": null,
      "grid_column": null,
      "grid_gap": null,
      "grid_row": null,
      "grid_template_areas": null,
      "grid_template_columns": null,
      "grid_template_rows": null,
      "height": null,
      "justify_content": null,
      "justify_items": null,
      "left": null,
      "margin": null,
      "max_height": null,
      "max_width": null,
      "min_height": null,
      "min_width": null,
      "object_fit": null,
      "object_position": null,
      "order": null,
      "overflow": null,
      "overflow_x": null,
      "overflow_y": null,
      "padding": null,
      "right": null,
      "top": null,
      "visibility": null,
      "width": null
     }
    },
    "d567203882cf4c5885f972b86b3cb4af": {
     "model_module": "@jupyter-widgets/controls",
     "model_module_version": "1.5.0",
     "model_name": "HTMLModel",
     "state": {
      "_dom_classes": [],
      "_model_module": "@jupyter-widgets/controls",
      "_model_module_version": "1.5.0",
      "_model_name": "HTMLModel",
      "_view_count": null,
      "_view_module": "@jupyter-widgets/controls",
      "_view_module_version": "1.5.0",
      "_view_name": "HTMLView",
      "description": "",
      "description_tooltip": null,
      "layout": "IPY_MODEL_9528c56823454c43826fca24304c4271",
      "placeholder": "​",
      "style": "IPY_MODEL_ebbd1ea5422f413aa87fb40cdf07a0bf",
      "value": " 112/112 [00:00&lt;00:00, 6.24kB/s]"
     }
    },
    "d61bcb30019a4090a294749e5307839a": {
     "model_module": "@jupyter-widgets/controls",
     "model_module_version": "1.5.0",
     "model_name": "ProgressStyleModel",
     "state": {
      "_model_module": "@jupyter-widgets/controls",
      "_model_module_version": "1.5.0",
      "_model_name": "ProgressStyleModel",
      "_view_count": null,
      "_view_module": "@jupyter-widgets/base",
      "_view_module_version": "1.2.0",
      "_view_name": "StyleView",
      "bar_color": null,
      "description_width": ""
     }
    },
    "d7a97d8e190840d39c2588c9e52e1998": {
     "model_module": "@jupyter-widgets/base",
     "model_module_version": "1.2.0",
     "model_name": "LayoutModel",
     "state": {
      "_model_module": "@jupyter-widgets/base",
      "_model_module_version": "1.2.0",
      "_model_name": "LayoutModel",
      "_view_count": null,
      "_view_module": "@jupyter-widgets/base",
      "_view_module_version": "1.2.0",
      "_view_name": "LayoutView",
      "align_content": null,
      "align_items": null,
      "align_self": null,
      "border": null,
      "bottom": null,
      "display": null,
      "flex": null,
      "flex_flow": null,
      "grid_area": null,
      "grid_auto_columns": null,
      "grid_auto_flow": null,
      "grid_auto_rows": null,
      "grid_column": null,
      "grid_gap": null,
      "grid_row": null,
      "grid_template_areas": null,
      "grid_template_columns": null,
      "grid_template_rows": null,
      "height": null,
      "justify_content": null,
      "justify_items": null,
      "left": null,
      "margin": null,
      "max_height": null,
      "max_width": null,
      "min_height": null,
      "min_width": null,
      "object_fit": null,
      "object_position": null,
      "order": null,
      "overflow": null,
      "overflow_x": null,
      "overflow_y": null,
      "padding": null,
      "right": null,
      "top": null,
      "visibility": null,
      "width": null
     }
    },
    "dc8efa26d86a4fc79ea8a273d2bac0c8": {
     "model_module": "@jupyter-widgets/controls",
     "model_module_version": "1.5.0",
     "model_name": "FloatProgressModel",
     "state": {
      "_dom_classes": [],
      "_model_module": "@jupyter-widgets/controls",
      "_model_module_version": "1.5.0",
      "_model_name": "FloatProgressModel",
      "_view_count": null,
      "_view_module": "@jupyter-widgets/controls",
      "_view_module_version": "1.5.0",
      "_view_name": "ProgressView",
      "bar_style": "success",
      "description": "",
      "description_tooltip": null,
      "layout": "IPY_MODEL_38477459149440368be6467ea18e6d37",
      "max": 90868376,
      "min": 0,
      "orientation": "horizontal",
      "style": "IPY_MODEL_2f9e59224a5546f6965e6ecb970b1165",
      "value": 90868376
     }
    },
    "dcf0b733e03a40bab18e44abefd174a6": {
     "model_module": "@jupyter-widgets/base",
     "model_module_version": "1.2.0",
     "model_name": "LayoutModel",
     "state": {
      "_model_module": "@jupyter-widgets/base",
      "_model_module_version": "1.2.0",
      "_model_name": "LayoutModel",
      "_view_count": null,
      "_view_module": "@jupyter-widgets/base",
      "_view_module_version": "1.2.0",
      "_view_name": "LayoutView",
      "align_content": null,
      "align_items": null,
      "align_self": null,
      "border": null,
      "bottom": null,
      "display": null,
      "flex": null,
      "flex_flow": null,
      "grid_area": null,
      "grid_auto_columns": null,
      "grid_auto_flow": null,
      "grid_auto_rows": null,
      "grid_column": null,
      "grid_gap": null,
      "grid_row": null,
      "grid_template_areas": null,
      "grid_template_columns": null,
      "grid_template_rows": null,
      "height": null,
      "justify_content": null,
      "justify_items": null,
      "left": null,
      "margin": null,
      "max_height": null,
      "max_width": null,
      "min_height": null,
      "min_width": null,
      "object_fit": null,
      "object_position": null,
      "order": null,
      "overflow": null,
      "overflow_x": null,
      "overflow_y": null,
      "padding": null,
      "right": null,
      "top": null,
      "visibility": null,
      "width": null
     }
    },
    "decd835bab024eb49f4dcd70b2d331d4": {
     "model_module": "@jupyter-widgets/base",
     "model_module_version": "1.2.0",
     "model_name": "LayoutModel",
     "state": {
      "_model_module": "@jupyter-widgets/base",
      "_model_module_version": "1.2.0",
      "_model_name": "LayoutModel",
      "_view_count": null,
      "_view_module": "@jupyter-widgets/base",
      "_view_module_version": "1.2.0",
      "_view_name": "LayoutView",
      "align_content": null,
      "align_items": null,
      "align_self": null,
      "border": null,
      "bottom": null,
      "display": null,
      "flex": null,
      "flex_flow": null,
      "grid_area": null,
      "grid_auto_columns": null,
      "grid_auto_flow": null,
      "grid_auto_rows": null,
      "grid_column": null,
      "grid_gap": null,
      "grid_row": null,
      "grid_template_areas": null,
      "grid_template_columns": null,
      "grid_template_rows": null,
      "height": null,
      "justify_content": null,
      "justify_items": null,
      "left": null,
      "margin": null,
      "max_height": null,
      "max_width": null,
      "min_height": null,
      "min_width": null,
      "object_fit": null,
      "object_position": null,
      "order": null,
      "overflow": null,
      "overflow_x": null,
      "overflow_y": null,
      "padding": null,
      "right": null,
      "top": null,
      "visibility": null,
      "width": null
     }
    },
    "eab26f705d67479da282e01f1c0afaaa": {
     "model_module": "@jupyter-widgets/controls",
     "model_module_version": "1.5.0",
     "model_name": "HTMLModel",
     "state": {
      "_dom_classes": [],
      "_model_module": "@jupyter-widgets/controls",
      "_model_module_version": "1.5.0",
      "_model_name": "HTMLModel",
      "_view_count": null,
      "_view_module": "@jupyter-widgets/controls",
      "_view_module_version": "1.5.0",
      "_view_name": "HTMLView",
      "description": "",
      "description_tooltip": null,
      "layout": "IPY_MODEL_951ea2166d55435a937044bf68f85743",
      "placeholder": "​",
      "style": "IPY_MODEL_7059b0dcec7f412699c6496e7c8b9e67",
      "value": " 350/350 [00:00&lt;00:00, 8.63kB/s]"
     }
    },
    "ebbd1ea5422f413aa87fb40cdf07a0bf": {
     "model_module": "@jupyter-widgets/controls",
     "model_module_version": "1.5.0",
     "model_name": "DescriptionStyleModel",
     "state": {
      "_model_module": "@jupyter-widgets/controls",
      "_model_module_version": "1.5.0",
      "_model_name": "DescriptionStyleModel",
      "_view_count": null,
      "_view_module": "@jupyter-widgets/base",
      "_view_module_version": "1.2.0",
      "_view_name": "StyleView",
      "description_width": ""
     }
    },
    "f9e9f9a87b4d4a95aa59428edc69f694": {
     "model_module": "@jupyter-widgets/base",
     "model_module_version": "1.2.0",
     "model_name": "LayoutModel",
     "state": {
      "_model_module": "@jupyter-widgets/base",
      "_model_module_version": "1.2.0",
      "_model_name": "LayoutModel",
      "_view_count": null,
      "_view_module": "@jupyter-widgets/base",
      "_view_module_version": "1.2.0",
      "_view_name": "LayoutView",
      "align_content": null,
      "align_items": null,
      "align_self": null,
      "border": null,
      "bottom": null,
      "display": null,
      "flex": null,
      "flex_flow": null,
      "grid_area": null,
      "grid_auto_columns": null,
      "grid_auto_flow": null,
      "grid_auto_rows": null,
      "grid_column": null,
      "grid_gap": null,
      "grid_row": null,
      "grid_template_areas": null,
      "grid_template_columns": null,
      "grid_template_rows": null,
      "height": null,
      "justify_content": null,
      "justify_items": null,
      "left": null,
      "margin": null,
      "max_height": null,
      "max_width": null,
      "min_height": null,
      "min_width": null,
      "object_fit": null,
      "object_position": null,
      "order": null,
      "overflow": null,
      "overflow_x": null,
      "overflow_y": null,
      "padding": null,
      "right": null,
      "top": null,
      "visibility": null,
      "width": null
     }
    },
    "fee576b25cd34185b319eff901ebd80d": {
     "model_module": "@jupyter-widgets/controls",
     "model_module_version": "1.5.0",
     "model_name": "DescriptionStyleModel",
     "state": {
      "_model_module": "@jupyter-widgets/controls",
      "_model_module_version": "1.5.0",
      "_model_name": "DescriptionStyleModel",
      "_view_count": null,
      "_view_module": "@jupyter-widgets/base",
      "_view_module_version": "1.2.0",
      "_view_name": "StyleView",
      "description_width": ""
     }
    }
   }
  }
 },
 "nbformat": 4,
 "nbformat_minor": 0
}
